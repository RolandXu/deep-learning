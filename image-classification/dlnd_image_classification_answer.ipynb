{
 "cells": [
  {
   "cell_type": "markdown",
   "metadata": {
    "collapsed": true,
    "deletable": true,
    "editable": true
   },
   "source": [
    "# Image Classification\n",
    "In this project, you'll classify images from the [CIFAR-10 dataset](https://www.cs.toronto.edu/~kriz/cifar.html).  The dataset consists of airplanes, dogs, cats, and other objects. You'll preprocess the images, then train a convolutional neural network on all the samples. The images need to be normalized and the labels need to be one-hot encoded.  You'll get to apply what you learned and build a convolutional, max pooling, dropout, and fully connected layers.  At the end, you'll get to see your neural network's predictions on the sample images.\n",
    "## Get the Data\n",
    "Run the following cell to download the [CIFAR-10 dataset for python](https://www.cs.toronto.edu/~kriz/cifar-10-python.tar.gz)."
   ]
  },
  {
   "cell_type": "code",
   "execution_count": 46,
   "metadata": {
    "collapsed": false,
    "deletable": true,
    "editable": true
   },
   "outputs": [
    {
     "name": "stdout",
     "output_type": "stream",
     "text": [
      "All files found!\n"
     ]
    }
   ],
   "source": [
    "\"\"\"\n",
    "DON'T MODIFY ANYTHING IN THIS CELL THAT IS BELOW THIS LINE\n",
    "\"\"\"\n",
    "from urllib.request import urlretrieve\n",
    "from os.path import isfile, isdir\n",
    "from tqdm import tqdm\n",
    "import problem_unittests as tests\n",
    "import tarfile\n",
    "\n",
    "cifar10_dataset_folder_path = 'cifar-10-batches-py'\n",
    "\n",
    "class DLProgress(tqdm):\n",
    "    last_block = 0\n",
    "\n",
    "    def hook(self, block_num=1, block_size=1, total_size=None):\n",
    "        self.total = total_size\n",
    "        self.update((block_num - self.last_block) * block_size)\n",
    "        self.last_block = block_num\n",
    "\n",
    "if not isfile('cifar-10-python.tar.gz'):\n",
    "    with DLProgress(unit='B', unit_scale=True, miniters=1, desc='CIFAR-10 Dataset') as pbar:\n",
    "        urlretrieve(\n",
    "            'https://www.cs.toronto.edu/~kriz/cifar-10-python.tar.gz',\n",
    "            'cifar-10-python.tar.gz',\n",
    "            pbar.hook)\n",
    "\n",
    "if not isdir(cifar10_dataset_folder_path):\n",
    "    with tarfile.open('cifar-10-python.tar.gz') as tar:\n",
    "        tar.extractall()\n",
    "        tar.close()\n",
    "\n",
    "\n",
    "tests.test_folder_path(cifar10_dataset_folder_path)"
   ]
  },
  {
   "cell_type": "markdown",
   "metadata": {
    "deletable": true,
    "editable": true
   },
   "source": [
    "## Explore the Data\n",
    "The dataset is broken into batches to prevent your machine from running out of memory.  The CIFAR-10 dataset consists of 5 batches, named `data_batch_1`, `data_batch_2`, etc.. Each batch contains the labels and images that are one of the following:\n",
    "* airplane\n",
    "* automobile\n",
    "* bird\n",
    "* cat\n",
    "* deer\n",
    "* dog\n",
    "* frog\n",
    "* horse\n",
    "* ship\n",
    "* truck\n",
    "\n",
    "Understanding a dataset is part of making predictions on the data.  Play around with the code cell below by changing the `batch_id` and `sample_id`. The `batch_id` is the id for a batch (1-5). The `sample_id` is the id for a image and label pair in the batch.\n",
    "\n",
    "Ask yourself \"What are all possible labels?\", \"What is the range of values for the image data?\", \"Are the labels in order or random?\".  Answers to questions like these will help you preprocess the data and end up with better predictions."
   ]
  },
  {
   "cell_type": "code",
   "execution_count": 47,
   "metadata": {
    "collapsed": false,
    "deletable": true,
    "editable": true
   },
   "outputs": [
    {
     "name": "stdout",
     "output_type": "stream",
     "text": [
      "\n",
      "Stats of batch 4:\n",
      "Samples: 10000\n",
      "Label Counts: {0: 1003, 1: 963, 2: 1041, 3: 976, 4: 1004, 5: 1021, 6: 1004, 7: 981, 8: 1024, 9: 983}\n",
      "First 20 Labels: [0, 6, 0, 2, 7, 2, 1, 2, 4, 1, 5, 6, 6, 3, 1, 3, 5, 5, 8, 1]\n",
      "\n",
      "Example of Image 5:\n",
      "Image - Min Value: 13 Max Value: 169\n",
      "Image - Shape: (32, 32, 3)\n",
      "Label - Label Id: 2 Name: bird\n"
     ]
    },
    {
     "data": {
      "image/png": "[encoded data removed]",
      "text/plain": [
       "<matplotlib.figure.Figure at 0x7f21dfed92b0>"
      ]
     },
     "metadata": {
      "image/png": {
       "height": 250,
       "width": 253
      }
     },
     "output_type": "display_data"
    }
   ],
   "source": [
    "%matplotlib inline\n",
    "%config InlineBackend.figure_format = 'retina'\n",
    "\n",
    "import helper\n",
    "import numpy as np\n",
    "\n",
    "# Explore the dataset\n",
    "batch_id = 4\n",
    "sample_id = 5\n",
    "helper.display_stats(cifar10_dataset_folder_path, batch_id, sample_id)"
   ]
  },
  {
   "cell_type": "markdown",
   "metadata": {
    "deletable": true,
    "editable": true
   },
   "source": [
    "## Implement Preprocess Functions\n",
    "### Normalize\n",
    "In the cell below, implement the `normalize` function to take in image data, `x`, and return it as a normalized Numpy array. The values should be in the range of 0 to 1, inclusive.  The return object should be the same shape as `x`."
   ]
  },
  {
   "cell_type": "code",
   "execution_count": 48,
   "metadata": {
    "collapsed": false,
    "deletable": true,
    "editable": true
   },
   "outputs": [
    {
     "name": "stdout",
     "output_type": "stream",
     "text": [
      "Tests Passed\n"
     ]
    }
   ],
   "source": [
    "def normalize(x):\n",
    "    \"\"\"\n",
    "    Normalize a list of sample image data in the range of 0 to 1\n",
    "    : x: List of image data.  The image shape is (32, 32, 3)\n",
    "    : return: Numpy array of normalize data\n",
    "    \"\"\"\n",
    "\n",
    "    normalized = np.ndarray(shape=x.shape, dtype=float)\n",
    "\n",
    "    for (index, value) in np.ndenumerate(x):\n",
    "        normalized[index] = value / float(255)\n",
    "\n",
    "    return normalized\n",
    "\n",
    "\n",
    "\"\"\"\n",
    "DON'T MODIFY ANYTHING IN THIS CELL THAT IS BELOW THIS LINE\n",
    "\"\"\"\n",
    "tests.test_normalize(normalize)"
   ]
  },
  {
   "cell_type": "markdown",
   "metadata": {
    "deletable": true,
    "editable": true
   },
   "source": [
    "### One-hot encode\n",
    "Just like the previous code cell, you'll be implementing a function for preprocessing.  This time, you'll implement the `one_hot_encode` function. The input, `x`, are a list of labels.  Implement the function to return the list of labels as One-Hot encoded Numpy array.  The possible values for labels are 0 to 9. The one-hot encoding function should return the same encoding for each value between each call to `one_hot_encode`.  Make sure to save the map of encodings outside the function.\n",
    "\n",
    "Hint: Don't reinvent the wheel."
   ]
  },
  {
   "cell_type": "code",
   "execution_count": 49,
   "metadata": {
    "collapsed": false,
    "deletable": true,
    "editable": true
   },
   "outputs": [
    {
     "name": "stdout",
     "output_type": "stream",
     "text": [
      "Tests Passed\n"
     ]
    }
   ],
   "source": [
    "def one_hot_encode(x):\n",
    "    \"\"\"\n",
    "    One hot encode a list of sample labels. Return a one-hot encoded vector for each label.\n",
    "    : x: List of sample Labels\n",
    "    : return: Numpy array of one-hot encoded labels\n",
    "    \"\"\"\n",
    "    one_hot = np.zeros((len(x), 10), dtype=np.int)\n",
    "    for k, i in enumerate(x):\n",
    "        one_hot[k][i] = 1\n",
    "    \n",
    "    return one_hot\n",
    "\n",
    "\"\"\"\n",
    "DON'T MODIFY ANYTHING IN THIS CELL THAT IS BELOW THIS LINE\n",
    "\"\"\"\n",
    "tests.test_one_hot_encode(one_hot_encode)"
   ]
  },
  {
   "cell_type": "markdown",
   "metadata": {
    "deletable": true,
    "editable": true
   },
   "source": [
    "### Randomize Data\n",
    "As you saw from exploring the data above, the order of the samples are randomized.  It doesn't hurt to randomize it again, but you don't need to for this dataset."
   ]
  },
  {
   "cell_type": "markdown",
   "metadata": {
    "deletable": true,
    "editable": true
   },
   "source": [
    "## Preprocess all the data and save it\n",
    "Running the code cell below will preprocess all the CIFAR-10 data and save it to file. The code below also uses 10% of the training data for validation."
   ]
  },
  {
   "cell_type": "code",
   "execution_count": 57,
   "metadata": {
    "collapsed": false,
    "deletable": true,
    "editable": true
   },
   "outputs": [],
   "source": [
    "\"\"\"\n",
    "DON'T MODIFY ANYTHING IN THIS CELL\n",
    "\"\"\"\n",
    "# Preprocess Training, Validation, and Testing Data\n",
    "helper.preprocess_and_save_data(cifar10_dataset_folder_path, normalize, one_hot_encode)"
   ]
  },
  {
   "cell_type": "markdown",
   "metadata": {
    "deletable": true,
    "editable": true
   },
   "source": [
    "# Check Point\n",
    "This is your first checkpoint.  If you ever decide to come back to this notebook or have to restart the notebook, you can start from here.  The preprocessed data has been saved to disk."
   ]
  },
  {
   "cell_type": "code",
   "execution_count": 50,
   "metadata": {
    "collapsed": true,
    "deletable": true,
    "editable": true
   },
   "outputs": [],
   "source": [
    "\"\"\"\n",
    "DON'T MODIFY ANYTHING IN THIS CELL\n",
    "\"\"\"\n",
    "import pickle\n",
    "import problem_unittests as tests\n",
    "import helper\n",
    "\n",
    "# Load the Preprocessed Validation data\n",
    "valid_features, valid_labels = pickle.load(open('preprocess_validation.p', mode='rb'))"
   ]
  },
  {
   "cell_type": "markdown",
   "metadata": {
    "deletable": true,
    "editable": true
   },
   "source": [
    "## Build the network\n",
    "For the neural network, you'll build each layer into a function.  Most of the code you've seen has been outside of functions. To test your code more thoroughly, we require that you put each layer in a function.  This allows us to give you better feedback and test for simple mistakes using our unittests before you submit your project.\n",
    "\n",
    ">**Note:** If you're finding it hard to dedicate enough time for this course each week, we've provided a small shortcut to this part of the project. In the next couple of problems, you'll have the option to use classes from the [TensorFlow Layers](https://www.tensorflow.org/api_docs/python/tf/layers) or [TensorFlow Layers (contrib)](https://www.tensorflow.org/api_guides/python/contrib.layers) packages to build each layer, except the layers you build in the \"Convolutional and Max Pooling Layer\" section.  TF Layers is similar to Keras's and TFLearn's abstraction to layers, so it's easy to pickup.\n",
    "\n",
    ">However, if you would like to get the most out of this course, try to solve all the problems _without_ using anything from the TF Layers packages. You **can** still use classes from other packages that happen to have the same name as ones you find in TF Layers! For example, instead of using the TF Layers version of the `conv2d` class, [tf.layers.conv2d](https://www.tensorflow.org/api_docs/python/tf/layers/conv2d), you would want to use the TF Neural Network version of `conv2d`, [tf.nn.conv2d](https://www.tensorflow.org/api_docs/python/tf/nn/conv2d). \n",
    "\n",
    "Let's begin!\n",
    "\n",
    "### Input\n",
    "The neural network needs to read the image data, one-hot encoded labels, and dropout keep probability. Implement the following functions\n",
    "* Implement `neural_net_image_input`\n",
    " * Return a [TF Placeholder](https://www.tensorflow.org/api_docs/python/tf/placeholder)\n",
    " * Set the shape using `image_shape` with batch size set to `None`.\n",
    " * Name the TensorFlow placeholder \"x\" using the TensorFlow `name` parameter in the [TF Placeholder](https://www.tensorflow.org/api_docs/python/tf/placeholder).\n",
    "* Implement `neural_net_label_input`\n",
    " * Return a [TF Placeholder](https://www.tensorflow.org/api_docs/python/tf/placeholder)\n",
    " * Set the shape using `n_classes` with batch size set to `None`.\n",
    " * Name the TensorFlow placeholder \"y\" using the TensorFlow `name` parameter in the [TF Placeholder](https://www.tensorflow.org/api_docs/python/tf/placeholder).\n",
    "* Implement `neural_net_keep_prob_input`\n",
    " * Return a [TF Placeholder](https://www.tensorflow.org/api_docs/python/tf/placeholder) for dropout keep probability.\n",
    " * Name the TensorFlow placeholder \"keep_prob\" using the TensorFlow `name` parameter in the [TF Placeholder](https://www.tensorflow.org/api_docs/python/tf/placeholder).\n",
    "\n",
    "These names will be used at the end of the project to load your saved model.\n",
    "\n",
    "Note: `None` for shapes in TensorFlow allow for a dynamic size."
   ]
  },
  {
   "cell_type": "code",
   "execution_count": 51,
   "metadata": {
    "collapsed": false,
    "deletable": true,
    "editable": true
   },
   "outputs": [
    {
     "name": "stdout",
     "output_type": "stream",
     "text": [
      "Image Input Tests Passed.\n",
      "Label Input Tests Passed.\n",
      "Keep Prob Tests Passed.\n"
     ]
    }
   ],
   "source": [
    "import tensorflow as tf\n",
    "\n",
    "\n",
    "def neural_net_image_input(image_shape):\n",
    "    \"\"\"\n",
    "    Return a Tensor for a bach of image input\n",
    "    : image_shape: Shape of the images\n",
    "    : return: Tensor for image input.\n",
    "    \"\"\"\n",
    "    return tf.placeholder(tf.float32, shape=(None, ) + image_shape, name='x')\n",
    "\n",
    "\n",
    "def neural_net_label_input(n_classes):\n",
    "    \"\"\"\n",
    "    Return a Tensor for a batch of label input\n",
    "    : n_classes: Number of classes\n",
    "    : return: Tensor for label input.\n",
    "    \"\"\"\n",
    "    return tf.placeholder(tf.float32, shape=(None, n_classes), name='y')\n",
    "\n",
    "\n",
    "def neural_net_keep_prob_input():\n",
    "    \"\"\"\n",
    "    Return a Tensor for keep probability\n",
    "    : return: Tensor for keep probability.\n",
    "    \"\"\"\n",
    "    return tf.placeholder(tf.float32, name='keep_prob')\n",
    "\n",
    "\n",
    "\"\"\"\n",
    "DON'T MODIFY ANYTHING IN THIS CELL THAT IS BELOW THIS LINE\n",
    "\"\"\"\n",
    "tf.reset_default_graph()\n",
    "tests.test_nn_image_inputs(neural_net_image_input)\n",
    "tests.test_nn_label_inputs(neural_net_label_input)\n",
    "tests.test_nn_keep_prob_inputs(neural_net_keep_prob_input)"
   ]
  },
  {
   "cell_type": "markdown",
   "metadata": {
    "deletable": true,
    "editable": true
   },
   "source": [
    "### Convolution and Max Pooling Layer\n",
    "Convolution layers have a lot of success with images. For this code cell, you should implement the function `conv2d_maxpool` to apply convolution then max pooling:\n",
    "* Create the weight and bias using `conv_ksize`, `conv_num_outputs` and the shape of `x_tensor`.\n",
    "* Apply a convolution to `x_tensor` using weight and `conv_strides`.\n",
    " * We recommend you use same padding, but you're welcome to use any padding.\n",
    "* Add bias\n",
    "* Add a nonlinear activation to the convolution.\n",
    "* Apply Max Pooling using `pool_ksize` and `pool_strides`.\n",
    " * We recommend you use same padding, but you're welcome to use any padding.\n",
    "\n",
    "**Note:** You **can't** use [TensorFlow Layers](https://www.tensorflow.org/api_docs/python/tf/layers) or [TensorFlow Layers (contrib)](https://www.tensorflow.org/api_guides/python/contrib.layers) for **this** layer, but you can still use TensorFlow's [Neural Network](https://www.tensorflow.org/api_docs/python/tf/nn) package. You may still use the shortcut option for all the **other** layers."
   ]
  },
  {
   "cell_type": "code",
   "execution_count": 52,
   "metadata": {
    "collapsed": false,
    "deletable": true,
    "editable": true
   },
   "outputs": [
    {
     "name": "stdout",
     "output_type": "stream",
     "text": [
      "Tests Passed\n"
     ]
    }
   ],
   "source": [
    "def conv2d_maxpool(x_tensor, conv_num_outputs, conv_ksize, conv_strides,\n",
    "                   pool_ksize, pool_strides):\n",
    "    \"\"\"\n",
    "    Apply convolution then max pooling to x_tensor\n",
    "    :param x_tensor: TensorFlow Tensor\n",
    "    :param conv_num_outputs: Number of outputs for the convolutional layer\n",
    "    :param conv_ksize: kernal size 2-D Tuple for the convolutional layer\n",
    "    :param conv_strides: Stride 2-D Tuple for convolution\n",
    "    :param pool_ksize: kernal size 2-D Tuple for pool\n",
    "    :param pool_strides: Stride 2-D Tuple for pool\n",
    "    : return: A tensor that represents convolution and max pooling of x_tensor\n",
    "    \"\"\"\n",
    "\n",
    "    # print(conv_num_outputs, x_tensor.get_shape(), conv_ksize, conv_strides)\n",
    "    # print(pool_ksize, pool_strides)\n",
    "\n",
    "    # Create weight and bias\n",
    "    color_channels = x_tensor.get_shape().as_list()[-1]\n",
    "    weight_shape = [*conv_ksize, color_channels, conv_num_outputs]\n",
    "    weight = tf.Variable(tf.random_normal(weight_shape))\n",
    "    bias = tf.Variable(tf.random_normal([conv_num_outputs]))\n",
    "\n",
    "    # apply a convolution and add bias\n",
    "    x_tensor = tf.nn.conv2d(\n",
    "        x_tensor, weight, strides=[1, *conv_strides, 1], padding='SAME')\n",
    "\n",
    "    x_tensor = tf.nn.bias_add(x_tensor, bias)\n",
    "\n",
    "    # Add a nonlinear activation\n",
    "    x_tensor = tf.nn.relu(x_tensor)\n",
    "\n",
    "    x_tensor = tf.nn.max_pool(\n",
    "        x_tensor,\n",
    "        ksize=[1, *pool_ksize, 1],\n",
    "        strides=[1, *pool_strides, 1],\n",
    "        padding='SAME')\n",
    "\n",
    "    #print(\"x_tensor\", x_tensor.get_shape())\n",
    "    return x_tensor\n",
    "\n",
    "\n",
    "\"\"\"\n",
    "DON'T MODIFY ANYTHING IN THIS CELL THAT IS BELOW THIS LINE\n",
    "\"\"\"\n",
    "tests.test_con_pool(conv2d_maxpool)"
   ]
  },
  {
   "cell_type": "markdown",
   "metadata": {
    "deletable": true,
    "editable": true
   },
   "source": [
    "### Flatten Layer\n",
    "Implement the `flatten` function to change the dimension of `x_tensor` from a 4-D tensor to a 2-D tensor.  The output should be the shape (*Batch Size*, *Flattened Image Size*). Shortcut option: you can use classes from the [TensorFlow Layers](https://www.tensorflow.org/api_docs/python/tf/layers) or [TensorFlow Layers (contrib)](https://www.tensorflow.org/api_guides/python/contrib.layers) packages for this layer. For more of a challenge, only use other TensorFlow packages."
   ]
  },
  {
   "cell_type": "code",
   "execution_count": 53,
   "metadata": {
    "collapsed": false,
    "deletable": true,
    "editable": true
   },
   "outputs": [
    {
     "name": "stdout",
     "output_type": "stream",
     "text": [
      "Tests Passed\n"
     ]
    }
   ],
   "source": [
    "def flatten(x_tensor):\n",
    "    \"\"\"\n",
    "    Flatten x_tensor to (Batch Size, Flattened Image Size)\n",
    "    : x_tensor: A tensor of size (Batch Size, ...), where ... are the image dimensions.\n",
    "    : return: A tensor of size (Batch Size, Flattened Image Size).\n",
    "    \"\"\"\n",
    "    dim = np.prod(x_tensor.get_shape().as_list()[1:])\n",
    "    x_tensor = tf.reshape(x_tensor, [-1, dim])\n",
    "    #print(x_tensor.get_shape())\n",
    "    return x_tensor\n",
    "\n",
    "\n",
    "\"\"\"\n",
    "DON'T MODIFY ANYTHING IN THIS CELL THAT IS BELOW THIS LINE\n",
    "\"\"\"\n",
    "tests.test_flatten(flatten)"
   ]
  },
  {
   "cell_type": "markdown",
   "metadata": {
    "deletable": true,
    "editable": true
   },
   "source": [
    "### Fully-Connected Layer\n",
    "Implement the `fully_conn` function to apply a fully connected layer to `x_tensor` with the shape (*Batch Size*, *num_outputs*). Shortcut option: you can use classes from the [TensorFlow Layers](https://www.tensorflow.org/api_docs/python/tf/layers) or [TensorFlow Layers (contrib)](https://www.tensorflow.org/api_guides/python/contrib.layers) packages for this layer. For more of a challenge, only use other TensorFlow packages."
   ]
  },
  {
   "cell_type": "code",
   "execution_count": 54,
   "metadata": {
    "collapsed": false,
    "deletable": true,
    "editable": true
   },
   "outputs": [
    {
     "name": "stdout",
     "output_type": "stream",
     "text": [
      "Tests Passed\n"
     ]
    }
   ],
   "source": [
    "def fully_conn(x_tensor, num_outputs):\n",
    "    \"\"\"\n",
    "    Apply a fully connected layer to x_tensor using weight and bias\n",
    "    : x_tensor: A 2-D tensor where the first dimension is batch size.\n",
    "    : num_outputs: The number of output that the new tensor should be.\n",
    "    : return: A 2-D tensor where the second dimension is num_outputs.\n",
    "    \"\"\"\n",
    "    # print (x_tensor.get_shape().as_list())\n",
    "    \n",
    "    x_shape = x_tensor.get_shape().as_list()[1:]\n",
    "    weight_shape = [*x_shape, num_outputs]\n",
    "    \n",
    "    weight = tf.Variable(tf.random_normal(weight_shape))\n",
    "    bias = tf.Variable(tf.random_normal([num_outputs]))\n",
    "    \n",
    "    x_tensor = tf.add(tf.matmul(x_tensor, weight), bias)\n",
    "    \n",
    "    return x_tensor\n",
    "\n",
    "\n",
    "\"\"\"\n",
    "DON'T MODIFY ANYTHING IN THIS CELL THAT IS BELOW THIS LINE\n",
    "\"\"\"\n",
    "tests.test_fully_conn(fully_conn)"
   ]
  },
  {
   "cell_type": "markdown",
   "metadata": {
    "deletable": true,
    "editable": true
   },
   "source": [
    "### Output Layer\n",
    "Implement the `output` function to apply a fully connected layer to `x_tensor` with the shape (*Batch Size*, *num_outputs*). Shortcut option: you can use classes from the [TensorFlow Layers](https://www.tensorflow.org/api_docs/python/tf/layers) or [TensorFlow Layers (contrib)](https://www.tensorflow.org/api_guides/python/contrib.layers) packages for this layer. For more of a challenge, only use other TensorFlow packages.\n",
    "\n",
    "**Note:** Activation, softmax, or cross entropy should **not** be applied to this."
   ]
  },
  {
   "cell_type": "code",
   "execution_count": 55,
   "metadata": {
    "collapsed": false,
    "deletable": true,
    "editable": true
   },
   "outputs": [
    {
     "name": "stdout",
     "output_type": "stream",
     "text": [
      "Tests Passed\n"
     ]
    }
   ],
   "source": [
    "def output(x_tensor, num_outputs):\n",
    "    \"\"\"\n",
    "    Apply a output layer to x_tensor using weight and bias\n",
    "    : x_tensor: A 2-D tensor where the first dimension is batch size.\n",
    "    : num_outputs: The number of output that the new tensor should be.\n",
    "    : return: A 2-D tensor where the second dimension is num_outputs.\n",
    "    \"\"\"\n",
    "    # print (x_tensor.get_shape().as_list())\n",
    "    x_shape = x_tensor.get_shape().as_list()[1:]\n",
    "    weight_shape = [*x_shape, num_outputs]\n",
    "    \n",
    "    weight = tf.Variable(tf.random_normal(weight_shape))\n",
    "    bias = tf.Variable(tf.random_normal([num_outputs]))\n",
    "    \n",
    "    x_tensor = tf.add(tf.matmul(x_tensor, weight), bias)\n",
    "    \n",
    "    return x_tensor\n",
    "\n",
    "\n",
    "\"\"\"\n",
    "DON'T MODIFY ANYTHING IN THIS CELL THAT IS BELOW THIS LINE\n",
    "\"\"\"\n",
    "tests.test_output(output)"
   ]
  },
  {
   "cell_type": "markdown",
   "metadata": {
    "deletable": true,
    "editable": true
   },
   "source": [
    "### Create Convolutional Model\n",
    "Implement the function `conv_net` to create a convolutional neural network model. The function takes in a batch of images, `x`, and outputs logits.  Use the layers you created above to create this model:\n",
    "\n",
    "* Apply 1, 2, or 3 Convolution and Max Pool layers\n",
    "* Apply a Flatten Layer\n",
    "* Apply 1, 2, or 3 Fully Connected Layers\n",
    "* Apply an Output Layer\n",
    "* Return the output\n",
    "* Apply [TensorFlow's Dropout](https://www.tensorflow.org/api_docs/python/tf/nn/dropout) to one or more layers in the model using `keep_prob`. "
   ]
  },
  {
   "cell_type": "code",
   "execution_count": 67,
   "metadata": {
    "collapsed": false,
    "deletable": true,
    "editable": true
   },
   "outputs": [
    {
     "name": "stdout",
     "output_type": "stream",
     "text": [
      "Neural Network Built!\n"
     ]
    }
   ],
   "source": [
    "def conv_net(x, keep_prob):\n",
    "    \"\"\"\n",
    "    Create a convolutional neural network model\n",
    "    : x: Placeholder tensor that holds image data.\n",
    "    : keep_prob: Placeholder tensor that hold dropout keep probability.\n",
    "    : return: Tensor that represents logits\n",
    "    \"\"\"\n",
    "    #print (x.get_shape())\n",
    "    x_tensor = x\n",
    "    # TODO: Apply 1, 2, or 3 Convolution and Max Pool layers\n",
    "    #    Play around with different number of outputs, kernel size and stride\n",
    "    # Function Definition from Above:\n",
    "    #    conv2d_maxpool(x_tensor, conv_num_outputs, conv_ksize, conv_strides, pool_ksize, pool_strides)\n",
    "    conv_num_outputs = 16\n",
    "    conv_ksize = (3,3)\n",
    "    conv_strides = (1,1)\n",
    "    pool_ksize = (2,2)\n",
    "    pool_strides = (2,2)\n",
    "    x_tensor = conv2d_maxpool(x_tensor, conv_num_outputs, conv_ksize, conv_strides, pool_ksize, pool_strides)\n",
    "\n",
    "    conv_num_outputs = 32\n",
    "    conv_ksize = (3,3)\n",
    "    x_tensor = conv2d_maxpool(x_tensor, conv_num_outputs, conv_ksize, conv_strides, pool_ksize, pool_strides)\n",
    "    \n",
    "    # TODO: Apply a Flatten Layer\n",
    "    # Function Definition from Above:\n",
    "    #   flatten(x_tensor)\n",
    "    x_tensor = flatten(x_tensor)\n",
    "\n",
    "    # TODO: Apply 1, 2, or 3 Fully Connected Layers\n",
    "    #    Play around with different number of outputs\n",
    "    # Function Definition from Above:\n",
    "    #   fully_conn(x_tensor, num_outputs)\n",
    "    num_outputs = 2048\n",
    "    x_tensor = fully_conn(x_tensor, num_outputs)\n",
    "\n",
    "    num_outputs = 1024\n",
    "    x_tensor = fully_conn(x_tensor, num_outputs)\n",
    "\n",
    "    # TODO: Apply an Output Layer\n",
    "    #    Set this to the number of classes\n",
    "    # Function Definition from Above:\n",
    "    #   output(x_tensor, num_outputs)\n",
    "    n_classes = 10\n",
    "    x_tensor = output(x_tensor, n_classes)\n",
    "    \n",
    "    # TODO: return output\n",
    "    return x_tensor\n",
    "\n",
    "\n",
    "\"\"\"\n",
    "DON'T MODIFY ANYTHING IN THIS CELL THAT IS BELOW THIS LINE\n",
    "\"\"\"\n",
    "\n",
    "##############################\n",
    "## Build the Neural Network ##\n",
    "##############################\n",
    "\n",
    "# Remove previous weights, bias, inputs, etc..\n",
    "tf.reset_default_graph()\n",
    "\n",
    "# Inputs\n",
    "x = neural_net_image_input((32, 32, 3))\n",
    "y = neural_net_label_input(10)\n",
    "keep_prob = neural_net_keep_prob_input()\n",
    "\n",
    "# Model\n",
    "logits = conv_net(x, keep_prob)\n",
    "\n",
    "# Name logits Tensor, so that is can be loaded from disk after training\n",
    "logits = tf.identity(logits, name='logits')\n",
    "\n",
    "# Loss and Optimizer\n",
    "cost = tf.reduce_mean(tf.nn.softmax_cross_entropy_with_logits(logits=logits, labels=y))\n",
    "optimizer = tf.train.AdamOptimizer().minimize(cost)\n",
    "\n",
    "# Accuracy\n",
    "correct_pred = tf.equal(tf.argmax(logits, 1), tf.argmax(y, 1))\n",
    "accuracy = tf.reduce_mean(tf.cast(correct_pred, tf.float32), name='accuracy')\n",
    "\n",
    "tests.test_conv_net(conv_net)"
   ]
  },
  {
   "cell_type": "markdown",
   "metadata": {
    "deletable": true,
    "editable": true
   },
   "source": [
    "## Train the Neural Network\n",
    "### Single Optimization\n",
    "Implement the function `train_neural_network` to do a single optimization.  The optimization should use `optimizer` to optimize in `session` with a `feed_dict` of the following:\n",
    "* `x` for image input\n",
    "* `y` for labels\n",
    "* `keep_prob` for keep probability for dropout\n",
    "\n",
    "This function will be called for each batch, so `tf.global_variables_initializer()` has already been called.\n",
    "\n",
    "Note: Nothing needs to be returned. This function is only optimizing the neural network."
   ]
  },
  {
   "cell_type": "code",
   "execution_count": 230,
   "metadata": {
    "collapsed": false,
    "deletable": true,
    "editable": true
   },
   "outputs": [
    {
     "name": "stdout",
     "output_type": "stream",
     "text": [
      "Tests Passed\n"
     ]
    }
   ],
   "source": [
    "def train_neural_network(session, optimizer, keep_probability, feature_batch,\n",
    "                         label_batch):\n",
    "    \"\"\"\n",
    "    Optimize the session on a batch of images and labels\n",
    "    : session: Current TensorFlow session\n",
    "    : optimizer: TensorFlow optimizer function\n",
    "    : keep_probability: keep probability\n",
    "    : feature_batch: Batch of Numpy image data\n",
    "    : label_batch: Batch of Numpy label data\n",
    "    \"\"\"\n",
    "    #print(keep_probability, feature_batch.shape, label_batch.shape)\n",
    "\n",
    "    session.run(\n",
    "        optimizer,\n",
    "        feed_dict={\n",
    "            x: feature_batch,\n",
    "            y: label_batch,\n",
    "            keep_prob: keep_probability\n",
    "        })\n",
    "    pass\n",
    "\n",
    "\n",
    "\"\"\"\n",
    "DON'T MODIFY ANYTHING IN THIS CELL THAT IS BELOW THIS LINE\n",
    "\"\"\"\n",
    "tests.test_train_nn(train_neural_network)"
   ]
  },
  {
   "cell_type": "markdown",
   "metadata": {
    "deletable": true,
    "editable": true
   },
   "source": [
    "### Show Stats\n",
    "Implement the function `print_stats` to print loss and validation accuracy.  Use the global variables `valid_features` and `valid_labels` to calculate validation accuracy.  Use a keep probability of `1.0` to calculate the loss and validation accuracy."
   ]
  },
  {
   "cell_type": "code",
   "execution_count": 237,
   "metadata": {
    "collapsed": false,
    "deletable": true,
    "editable": true
   },
   "outputs": [],
   "source": [
    "import datetime\n",
    "\n",
    "\n",
    "def print_stats(session, feature_batch, label_batch, cost, accuracy):\n",
    "    \"\"\"\n",
    "    Print information about loss and validation accuracy\n",
    "    : session: Current TensorFlow session\n",
    "    : feature_batch: Batch of Numpy image data\n",
    "    : label_batch: Batch of Numpy label data\n",
    "    : cost: TensorFlow cost function\n",
    "    : accuracy: TensorFlow accuracy function\n",
    "    \"\"\"\n",
    "    loss = session.run(\n",
    "        cost, feed_dict={x: feature_batch,\n",
    "                         y: label_batch,\n",
    "                         keep_prob: 1.})\n",
    "\n",
    "    valid_acc = session.run(\n",
    "        accuracy,\n",
    "        feed_dict={x: valid_features,\n",
    "                   y: valid_labels,\n",
    "                   keep_prob: 1.})\n",
    "\n",
    "    print(\n",
    "        datetime.datetime.now().time(),\n",
    "        'Loss: {:>10.4f} Validation Accuracy: {:.6f}'.format(loss, valid_acc))\n",
    "\n",
    "    pass"
   ]
  },
  {
   "cell_type": "markdown",
   "metadata": {
    "deletable": true,
    "editable": true
   },
   "source": [
    "### Hyperparameters\n",
    "Tune the following parameters:\n",
    "* Set `epochs` to the number of iterations until the network stops learning or start overfitting\n",
    "* Set `batch_size` to the highest number that your machine has memory for.  Most people set them to common sizes of memory:\n",
    " * 64\n",
    " * 128\n",
    " * 256\n",
    " * ...\n",
    "* Set `keep_probability` to the probability of keeping a node using dropout"
   ]
  },
  {
   "cell_type": "code",
   "execution_count": 68,
   "metadata": {
    "collapsed": true,
    "deletable": true,
    "editable": true
   },
   "outputs": [],
   "source": [
    "# TODO: Tune Parameters\n",
    "epochs = 150\n",
    "batch_size = 512\n",
    "keep_probability = 0.6"
   ]
  },
  {
   "cell_type": "markdown",
   "metadata": {
    "deletable": true,
    "editable": true
   },
   "source": [
    "### Train on a Single CIFAR-10 Batch\n",
    "Instead of training the neural network on all the CIFAR-10 batches of data, let's use a single batch. This should save time while you iterate on the model to get a better accuracy.  Once the final validation accuracy is 50% or greater, run the model on all the data in the next section."
   ]
  },
  {
   "cell_type": "code",
   "execution_count": null,
   "metadata": {
    "collapsed": false,
    "deletable": true,
    "editable": true
   },
   "outputs": [
    {
     "name": "stdout",
     "output_type": "stream",
     "text": [
      "Checking the Training on a Single Batch...\n",
      "Epoch  1, CIFAR-10 Batch 1:  11:54:13.992323 Loss: 631775.0000 Validation Accuracy: 0.142200\n",
      "Epoch  2, CIFAR-10 Batch 1:  11:54:22.574770 Loss: 423076.0000 Validation Accuracy: 0.211400\n",
      "Epoch  3, CIFAR-10 Batch 1:  11:54:31.136767 Loss: 295180.1250 Validation Accuracy: 0.261800\n",
      "Epoch  4, CIFAR-10 Batch 1:  11:54:39.690211 Loss: 243977.2656 Validation Accuracy: 0.273400\n",
      "Epoch  5, CIFAR-10 Batch 1:  11:54:48.253671 Loss: 206747.4688 Validation Accuracy: 0.291400\n",
      "Epoch  6, CIFAR-10 Batch 1:  11:54:56.873357 Loss: 194989.9531 Validation Accuracy: 0.291000\n",
      "Epoch  7, CIFAR-10 Batch 1:  11:55:05.649985 Loss: 170094.9531 Validation Accuracy: 0.305000\n",
      "Epoch  8, CIFAR-10 Batch 1:  11:55:14.182377 Loss: 159769.9219 Validation Accuracy: 0.311200\n",
      "Epoch  9, CIFAR-10 Batch 1:  11:55:22.788002 Loss: 141749.5469 Validation Accuracy: 0.321200\n",
      "Epoch 10, CIFAR-10 Batch 1:  11:55:31.347154 Loss: 134383.6719 Validation Accuracy: 0.322000\n",
      "Epoch 11, CIFAR-10 Batch 1:  11:55:39.904666 Loss: 119400.0391 Validation Accuracy: 0.332200\n",
      "Epoch 12, CIFAR-10 Batch 1:  11:55:48.454042 Loss: 110836.7891 Validation Accuracy: 0.337000\n",
      "Epoch 13, CIFAR-10 Batch 1:  11:55:57.087988 Loss: 101831.8438 Validation Accuracy: 0.341400\n",
      "Epoch 14, CIFAR-10 Batch 1:  11:56:05.671461 Loss: 102167.1172 Validation Accuracy: 0.338200\n",
      "Epoch 15, CIFAR-10 Batch 1:  11:56:14.251289 Loss: 100184.0703 Validation Accuracy: 0.345400\n",
      "Epoch 16, CIFAR-10 Batch 1:  11:56:22.851406 Loss: 89571.3750 Validation Accuracy: 0.349000\n",
      "Epoch 17, CIFAR-10 Batch 1:  11:56:31.405606 Loss: 93559.4922 Validation Accuracy: 0.341800\n",
      "Epoch 18, CIFAR-10 Batch 1:  11:56:39.947500 Loss: 84052.3516 Validation Accuracy: 0.347600\n",
      "Epoch 19, CIFAR-10 Batch 1:  11:56:48.506454 Loss: 79396.9219 Validation Accuracy: 0.359200\n",
      "Epoch 20, CIFAR-10 Batch 1:  11:56:57.092640 Loss: 72348.5703 Validation Accuracy: 0.373600\n",
      "Epoch 21, CIFAR-10 Batch 1:  11:57:05.641090 Loss: 76631.7344 Validation Accuracy: 0.357000\n",
      "Epoch 22, CIFAR-10 Batch 1:  11:57:14.184911 Loss: 76678.0547 Validation Accuracy: 0.355600\n",
      "Epoch 23, CIFAR-10 Batch 1:  11:57:22.773706 Loss: 62016.5820 Validation Accuracy: 0.381200\n",
      "Epoch 24, CIFAR-10 Batch 1:  11:57:31.349166 Loss: 78960.5625 Validation Accuracy: 0.359200\n",
      "Epoch 25, CIFAR-10 Batch 1:  11:57:39.917262 Loss: 79178.6641 Validation Accuracy: 0.354800\n",
      "Epoch 26, CIFAR-10 Batch 1:  11:57:48.472660 Loss: 65970.9219 Validation Accuracy: 0.391800\n",
      "Epoch 27, CIFAR-10 Batch 1:  11:57:57.063195 Loss: 54315.6875 Validation Accuracy: 0.386400\n",
      "Epoch 28, CIFAR-10 Batch 1:  11:58:05.794220 Loss: 70143.7891 Validation Accuracy: 0.355800\n",
      "Epoch 29, CIFAR-10 Batch 1:  11:58:14.337621 Loss: 72450.1328 Validation Accuracy: 0.355200\n",
      "Epoch 30, CIFAR-10 Batch 1:  11:58:22.907766 Loss: 53813.9961 Validation Accuracy: 0.384000\n",
      "Epoch 31, CIFAR-10 Batch 1:  11:58:31.494997 Loss: 44192.2188 Validation Accuracy: 0.402000\n",
      "Epoch 32, CIFAR-10 Batch 1:  11:58:40.033882 Loss: 43743.6172 Validation Accuracy: 0.385800\n",
      "Epoch 33, CIFAR-10 Batch 1:  11:58:48.578357 Loss: 45829.8633 Validation Accuracy: 0.394200\n",
      "Epoch 34, CIFAR-10 Batch 1:  11:58:57.179927 Loss: 48075.5742 Validation Accuracy: 0.378600\n",
      "Epoch 35, CIFAR-10 Batch 1:  11:59:05.725646 Loss: 39658.6719 Validation Accuracy: 0.395200\n",
      "Epoch 36, CIFAR-10 Batch 1:  11:59:14.250721 Loss: 37325.1250 Validation Accuracy: 0.397600\n",
      "Epoch 37, CIFAR-10 Batch 1:  11:59:22.873739 Loss: 40035.5625 Validation Accuracy: 0.386400\n",
      "Epoch 38, CIFAR-10 Batch 1:  11:59:31.435850 Loss: 49315.9492 Validation Accuracy: 0.358600\n",
      "Epoch 39, CIFAR-10 Batch 1:  11:59:40.009590 Loss: 47698.9375 Validation Accuracy: 0.367800\n",
      "Epoch 40, CIFAR-10 Batch 1:  11:59:48.552443 Loss: 46993.5391 Validation Accuracy: 0.374400\n",
      "Epoch 41, CIFAR-10 Batch 1:  11:59:57.142710 Loss: 54802.7031 Validation Accuracy: 0.361400\n",
      "Epoch 42, CIFAR-10 Batch 1:  12:00:05.846669 Loss: 43934.0273 Validation Accuracy: 0.383200\n",
      "Epoch 43, CIFAR-10 Batch 1:  12:00:14.436797 Loss: 42248.3359 Validation Accuracy: 0.388000\n",
      "Epoch 44, CIFAR-10 Batch 1:  12:00:23.029204 Loss: 42051.0117 Validation Accuracy: 0.392600\n",
      "Epoch 45, CIFAR-10 Batch 1:  12:00:31.588025 Loss: 44417.3633 Validation Accuracy: 0.380200\n",
      "Epoch 46, CIFAR-10 Batch 1:  12:00:40.166174 Loss: 46513.0195 Validation Accuracy: 0.378200\n",
      "Epoch 47, CIFAR-10 Batch 1:  12:00:48.744952 Loss: 37887.3164 Validation Accuracy: 0.392800\n",
      "Epoch 48, CIFAR-10 Batch 1:  12:00:57.374541 Loss: 33243.2305 Validation Accuracy: 0.398800\n",
      "Epoch 49, CIFAR-10 Batch 1:  12:01:06.087208 Loss: 30676.1992 Validation Accuracy: 0.410200\n",
      "Epoch 50, CIFAR-10 Batch 1:  12:01:14.648284 Loss: 32152.0059 Validation Accuracy: 0.407600\n",
      "Epoch 51, CIFAR-10 Batch 1:  12:01:23.241022 Loss: 30240.1621 Validation Accuracy: 0.413800\n",
      "Epoch 52, CIFAR-10 Batch 1:  12:01:31.848427 Loss: 32091.1797 Validation Accuracy: 0.413200\n",
      "Epoch 53, CIFAR-10 Batch 1:  12:01:40.407232 Loss: 31006.3438 Validation Accuracy: 0.412000\n",
      "Epoch 54, CIFAR-10 Batch 1:  12:01:48.998764 Loss: 25651.3477 Validation Accuracy: 0.415200\n",
      "Epoch 55, CIFAR-10 Batch 1:  12:01:57.596983 Loss: 22323.9453 Validation Accuracy: 0.418200\n",
      "Epoch 56, CIFAR-10 Batch 1:  12:02:06.186888 Loss: 22639.9746 Validation Accuracy: 0.415600\n",
      "Epoch 57, CIFAR-10 Batch 1:  12:02:14.755772 Loss: 23496.3809 Validation Accuracy: 0.409800\n",
      "Epoch 58, CIFAR-10 Batch 1:  12:02:23.355963 Loss: 25543.6680 Validation Accuracy: 0.402600\n",
      "Epoch 59, CIFAR-10 Batch 1:  12:02:31.958010 Loss: 27812.0195 Validation Accuracy: 0.391400\n",
      "Epoch 60, CIFAR-10 Batch 1:  12:02:40.532254 Loss: 29222.6074 Validation Accuracy: 0.388600\n",
      "Epoch 61, CIFAR-10 Batch 1:  12:02:49.100389 Loss: 23496.6445 Validation Accuracy: 0.406600\n",
      "Epoch 62, CIFAR-10 Batch 1:  12:02:57.727340 Loss: 23404.6094 Validation Accuracy: 0.423000\n",
      "Epoch 63, CIFAR-10 Batch 1:  12:03:06.286972 Loss: 22213.9121 Validation Accuracy: 0.427600\n",
      "Epoch 64, CIFAR-10 Batch 1:  12:03:14.860100 Loss: 22772.2168 Validation Accuracy: 0.424400\n",
      "Epoch 65, CIFAR-10 Batch 1:  12:03:23.486806 Loss: 27966.8496 Validation Accuracy: 0.412800\n",
      "Epoch 66, CIFAR-10 Batch 1:  12:03:32.096918 Loss: 24866.0977 Validation Accuracy: 0.417400\n",
      "Epoch 67, CIFAR-10 Batch 1:  12:03:40.666330 Loss: 20996.2559 Validation Accuracy: 0.421400\n",
      "Epoch 68, CIFAR-10 Batch 1:  12:03:49.228701 Loss: 20819.5254 Validation Accuracy: 0.416400\n",
      "Epoch 69, CIFAR-10 Batch 1:  12:03:57.837916 Loss: 21678.5684 Validation Accuracy: 0.410000\n",
      "Epoch 70, CIFAR-10 Batch 1:  12:04:06.405611 Loss: 21097.0820 Validation Accuracy: 0.415000\n",
      "Epoch 71, CIFAR-10 Batch 1:  12:04:15.006107 Loss: 15932.3223 Validation Accuracy: 0.426800\n",
      "Epoch 72, CIFAR-10 Batch 1:  12:04:23.600638 Loss: 17804.5078 Validation Accuracy: 0.429800\n",
      "Epoch 73, CIFAR-10 Batch 1:  12:04:32.170710 Loss: 18683.4355 Validation Accuracy: 0.424200\n",
      "Epoch 74, CIFAR-10 Batch 1:  12:04:40.758034 Loss: 17852.0742 Validation Accuracy: 0.425400\n",
      "Epoch 75, CIFAR-10 Batch 1:  12:04:49.335595 Loss: 16705.7188 Validation Accuracy: 0.415600\n",
      "Epoch 76, CIFAR-10 Batch 1:  12:04:57.925303 Loss: 18059.6152 Validation Accuracy: 0.405800\n",
      "Epoch 77, CIFAR-10 Batch 1:  12:05:06.540187 Loss: 16477.6992 Validation Accuracy: 0.414800\n",
      "Epoch 78, CIFAR-10 Batch 1:  12:05:15.104343 Loss: 17091.8867 Validation Accuracy: 0.410000\n",
      "Epoch 79, CIFAR-10 Batch 1:  12:05:23.681593 Loss: 30227.0410 Validation Accuracy: 0.399400\n",
      "Epoch 80, CIFAR-10 Batch 1:  12:05:32.267970 Loss: 22594.2715 Validation Accuracy: 0.410400\n",
      "Epoch 81, CIFAR-10 Batch 1:  12:05:40.857836 Loss: 16895.3027 Validation Accuracy: 0.416800\n",
      "Epoch 82, CIFAR-10 Batch 1:  12:05:49.425004 Loss: 17492.2324 Validation Accuracy: 0.411000\n",
      "Epoch 83, CIFAR-10 Batch 1:  12:05:58.010748 Loss: 17316.9492 Validation Accuracy: 0.415400\n",
      "Epoch 84, CIFAR-10 Batch 1:  12:06:06.566380 Loss: 19083.5312 Validation Accuracy: 0.412600\n",
      "Epoch 85, CIFAR-10 Batch 1:  12:06:15.115842 Loss: 18493.2695 Validation Accuracy: 0.420000\n",
      "Epoch 86, CIFAR-10 Batch 1:  12:06:23.703990 Loss: 29284.4395 Validation Accuracy: 0.405200\n",
      "Epoch 87, CIFAR-10 Batch 1:  12:06:32.278308 Loss: 18889.6172 Validation Accuracy: 0.413400\n",
      "Epoch 88, CIFAR-10 Batch 1:  12:06:40.852333 Loss: 15018.5205 Validation Accuracy: 0.429000\n",
      "Epoch 89, CIFAR-10 Batch 1:  12:06:49.390112 Loss: 13898.0537 Validation Accuracy: 0.423400\n",
      "Epoch 90, CIFAR-10 Batch 1:  12:06:57.995563 Loss: 12558.3887 Validation Accuracy: 0.428200\n",
      "Epoch 91, CIFAR-10 Batch 1:  12:07:06.565149 Loss: 12945.9180 Validation Accuracy: 0.420800\n",
      "Epoch 92, CIFAR-10 Batch 1:  12:07:15.140463 Loss: 12772.3369 Validation Accuracy: 0.421000\n",
      "Epoch 93, CIFAR-10 Batch 1:  12:07:23.721264 Loss: 14482.4727 Validation Accuracy: 0.416800\n",
      "Epoch 94, CIFAR-10 Batch 1:  12:07:32.306561 Loss: 15618.8105 Validation Accuracy: 0.420600\n",
      "Epoch 95, CIFAR-10 Batch 1:  12:07:40.888872 Loss: 13286.0625 Validation Accuracy: 0.418800\n",
      "Epoch 96, CIFAR-10 Batch 1:  12:07:49.456010 Loss: 12149.9902 Validation Accuracy: 0.422800\n",
      "Epoch 97, CIFAR-10 Batch 1:  12:07:58.067952 Loss: 10277.4072 Validation Accuracy: 0.434400\n",
      "Epoch 98, CIFAR-10 Batch 1:  12:08:06.623207 Loss:  8360.1533 Validation Accuracy: 0.445400\n",
      "Epoch 99, CIFAR-10 Batch 1:  12:08:15.190047 Loss:  7788.6309 Validation Accuracy: 0.439000\n",
      "Epoch 100, CIFAR-10 Batch 1:  12:08:23.816787 Loss:  8000.9697 Validation Accuracy: 0.439600\n",
      "Epoch 101, CIFAR-10 Batch 1:  12:08:32.398838 Loss:  9303.7607 Validation Accuracy: 0.440400\n",
      "Epoch 102, CIFAR-10 Batch 1:  12:08:40.958704 Loss: 10586.0068 Validation Accuracy: 0.430000\n",
      "Epoch 103, CIFAR-10 Batch 1:  12:08:49.532763 Loss:  9657.3115 Validation Accuracy: 0.439000\n",
      "Epoch 104, CIFAR-10 Batch 1:  12:08:58.154832 Loss:  8763.9463 Validation Accuracy: 0.435600\n",
      "Epoch 105, CIFAR-10 Batch 1:  12:09:06.747976 Loss:  7730.6064 Validation Accuracy: 0.433800\n",
      "Epoch 106, CIFAR-10 Batch 1:  12:09:15.332310 Loss: 10198.4365 Validation Accuracy: 0.421600\n",
      "Epoch 107, CIFAR-10 Batch 1:  12:09:23.929050 Loss: 12132.6035 Validation Accuracy: 0.415000\n",
      "Epoch 108, CIFAR-10 Batch 1:  12:09:32.530077 Loss:  9321.3916 Validation Accuracy: 0.427000\n",
      "Epoch 109, CIFAR-10 Batch 1:  12:09:41.114476 Loss:  6924.4326 Validation Accuracy: 0.438600\n",
      "Epoch 110, CIFAR-10 Batch 1:  12:09:49.688133 Loss:  7055.0400 Validation Accuracy: 0.436400\n",
      "Epoch 111, CIFAR-10 Batch 1:  12:09:58.343437 Loss:  7373.3506 Validation Accuracy: 0.435400\n",
      "Epoch 112, CIFAR-10 Batch 1:  12:10:07.050101 Loss:  9624.8281 Validation Accuracy: 0.429200\n",
      "Epoch 113, CIFAR-10 Batch 1:  12:10:15.638168 Loss: 10225.5586 Validation Accuracy: 0.428200\n",
      "Epoch 114, CIFAR-10 Batch 1:  12:10:24.256555 Loss: 10262.9531 Validation Accuracy: 0.423800\n",
      "Epoch 115, CIFAR-10 Batch 1:  12:10:32.828915 Loss:  9242.1670 Validation Accuracy: 0.424000\n",
      "Epoch 116, CIFAR-10 Batch 1:  12:10:41.410971 Loss: 12995.0605 Validation Accuracy: 0.415800\n",
      "Epoch 117, CIFAR-10 Batch 1:  12:10:49.971667 Loss: 12120.1592 Validation Accuracy: 0.424600\n",
      "Epoch 118, CIFAR-10 Batch 1:  12:10:58.610705 Loss:  6206.1758 Validation Accuracy: 0.444400\n",
      "Epoch 119, CIFAR-10 Batch 1:  12:11:07.156372 Loss:  9561.4561 Validation Accuracy: 0.429600\n",
      "Epoch 120, CIFAR-10 Batch 1:  12:11:15.726069 Loss: 12220.3818 Validation Accuracy: 0.411400\n",
      "Epoch 121, CIFAR-10 Batch 1:  12:11:24.362934 Loss: 10957.9990 Validation Accuracy: 0.421200\n",
      "Epoch 122, CIFAR-10 Batch 1:  12:11:32.980257 Loss: 12505.8057 Validation Accuracy: 0.415600\n",
      "Epoch 123, CIFAR-10 Batch 1:  12:11:41.534215 Loss:  6726.0586 Validation Accuracy: 0.447800\n"
     ]
    }
   ],
   "source": [
    "\"\"\"\n",
    "DON'T MODIFY ANYTHING IN THIS CELL\n",
    "\"\"\"\n",
    "print('Checking the Training on a Single Batch...')\n",
    "with tf.Session() as sess:\n",
    "    # Initializing the variables\n",
    "    sess.run(tf.global_variables_initializer())\n",
    "    \n",
    "    # Training cycle\n",
    "    for epoch in range(epochs):\n",
    "        batch_i = 1\n",
    "        for batch_features, batch_labels in helper.load_preprocess_training_batch(batch_i, batch_size):\n",
    "            train_neural_network(sess, optimizer, keep_probability, batch_features, batch_labels)\n",
    "        print('Epoch {:>2}, CIFAR-10 Batch {}:  '.format(epoch + 1, batch_i), end='')\n",
    "        print_stats(sess, batch_features, batch_labels, cost, accuracy)"
   ]
  },
  {
   "cell_type": "markdown",
   "metadata": {
    "deletable": true,
    "editable": true
   },
   "source": [
    "### Fully Train the Model\n",
    "Now that you got a good accuracy with a single CIFAR-10 batch, try it with all five batches."
   ]
  },
  {
   "cell_type": "code",
   "execution_count": null,
   "metadata": {
    "collapsed": false,
    "deletable": true,
    "editable": true
   },
   "outputs": [],
   "source": [
    "\"\"\"\n",
    "DON'T MODIFY ANYTHING IN THIS CELL\n",
    "\"\"\"\n",
    "save_model_path = './image_classification'\n",
    "\n",
    "print('Training...')\n",
    "with tf.Session() as sess:\n",
    "    # Initializing the variables\n",
    "    sess.run(tf.global_variables_initializer())\n",
    "    \n",
    "    # Training cycle\n",
    "    for epoch in range(epochs):\n",
    "        # Loop over all batches\n",
    "        n_batches = 5\n",
    "        for batch_i in range(1, n_batches + 1):\n",
    "            for batch_features, batch_labels in helper.load_preprocess_training_batch(batch_i, batch_size):\n",
    "                train_neural_network(sess, optimizer, keep_probability, batch_features, batch_labels)\n",
    "            print('Epoch {:>2}, CIFAR-10 Batch {}:  '.format(epoch + 1, batch_i), end='')\n",
    "            print_stats(sess, batch_features, batch_labels, cost, accuracy)\n",
    "            \n",
    "    # Save Model\n",
    "    saver = tf.train.Saver()\n",
    "    save_path = saver.save(sess, save_model_path)"
   ]
  },
  {
   "cell_type": "markdown",
   "metadata": {
    "deletable": true,
    "editable": true
   },
   "source": [
    "# Checkpoint\n",
    "The model has been saved to disk.\n",
    "## Test Model\n",
    "Test your model against the test dataset.  This will be your final accuracy. You should have an accuracy greater than 50%. If you don't, keep tweaking the model architecture and parameters."
   ]
  },
  {
   "cell_type": "code",
   "execution_count": null,
   "metadata": {
    "collapsed": false,
    "deletable": true,
    "editable": true
   },
   "outputs": [],
   "source": [
    "\"\"\"\n",
    "DON'T MODIFY ANYTHING IN THIS CELL\n",
    "\"\"\"\n",
    "%matplotlib inline\n",
    "%config InlineBackend.figure_format = 'retina'\n",
    "\n",
    "import tensorflow as tf\n",
    "import pickle\n",
    "import helper\n",
    "import random\n",
    "\n",
    "# Set batch size if not already set\n",
    "try:\n",
    "    if batch_size:\n",
    "        pass\n",
    "except NameError:\n",
    "    batch_size = 64\n",
    "\n",
    "save_model_path = './image_classification'\n",
    "n_samples = 4\n",
    "top_n_predictions = 3\n",
    "\n",
    "def test_model():\n",
    "    \"\"\"\n",
    "    Test the saved model against the test dataset\n",
    "    \"\"\"\n",
    "\n",
    "    test_features, test_labels = pickle.load(open('preprocess_training.p', mode='rb'))\n",
    "    loaded_graph = tf.Graph()\n",
    "\n",
    "    with tf.Session(graph=loaded_graph) as sess:\n",
    "        # Load model\n",
    "        loader = tf.train.import_meta_graph(save_model_path + '.meta')\n",
    "        loader.restore(sess, save_model_path)\n",
    "\n",
    "        # Get Tensors from loaded model\n",
    "        loaded_x = loaded_graph.get_tensor_by_name('x:0')\n",
    "        loaded_y = loaded_graph.get_tensor_by_name('y:0')\n",
    "        loaded_keep_prob = loaded_graph.get_tensor_by_name('keep_prob:0')\n",
    "        loaded_logits = loaded_graph.get_tensor_by_name('logits:0')\n",
    "        loaded_acc = loaded_graph.get_tensor_by_name('accuracy:0')\n",
    "        \n",
    "        # Get accuracy in batches for memory limitations\n",
    "        test_batch_acc_total = 0\n",
    "        test_batch_count = 0\n",
    "        \n",
    "        for train_feature_batch, train_label_batch in helper.batch_features_labels(test_features, test_labels, batch_size):\n",
    "            test_batch_acc_total += sess.run(\n",
    "                loaded_acc,\n",
    "                feed_dict={loaded_x: train_feature_batch, loaded_y: train_label_batch, loaded_keep_prob: 1.0})\n",
    "            test_batch_count += 1\n",
    "\n",
    "        print('Testing Accuracy: {}\\n'.format(test_batch_acc_total/test_batch_count))\n",
    "\n",
    "        # Print Random Samples\n",
    "        random_test_features, random_test_labels = tuple(zip(*random.sample(list(zip(test_features, test_labels)), n_samples)))\n",
    "        random_test_predictions = sess.run(\n",
    "            tf.nn.top_k(tf.nn.softmax(loaded_logits), top_n_predictions),\n",
    "            feed_dict={loaded_x: random_test_features, loaded_y: random_test_labels, loaded_keep_prob: 1.0})\n",
    "        helper.display_image_predictions(random_test_features, random_test_labels, random_test_predictions)\n",
    "\n",
    "\n",
    "test_model()"
   ]
  },
  {
   "cell_type": "markdown",
   "metadata": {
    "deletable": true,
    "editable": true
   },
   "source": [
    "## Why 50-70% Accuracy?\n",
    "You might be wondering why you can't get an accuracy any higher. First things first, 50% isn't bad for a simple CNN.  Pure guessing would get you 10% accuracy. However, you might notice people are getting scores [well above 70%](http://rodrigob.github.io/are_we_there_yet/build/classification_datasets_results.html#43494641522d3130).  That's because we haven't taught you all there is to know about neural networks. We still need to cover a few more techniques.\n",
    "## Submitting This Project\n",
    "When submitting this project, make sure to run all the cells before saving the notebook.  Save the notebook file as \"dlnd_image_classification.ipynb\" and save it as a HTML file under \"File\" -> \"Download as\".  Include the \"helper.py\" and \"problem_unittests.py\" files in your submission."
   ]
  }
 ],
 "metadata": {
  "kernelspec": {
   "display_name": "Python 3",
   "language": "python",
   "name": "python3"
  },
  "language_info": {
   "codemirror_mode": {
    "name": "ipython",
    "version": 3
   },
   "file_extension": ".py",
   "mimetype": "text/x-python",
   "name": "python",
   "nbconvert_exporter": "python",
   "pygments_lexer": "ipython3",
   "version": "3.5.2"
  }
 },
 "nbformat": 4,
 "nbformat_minor": 0
}
