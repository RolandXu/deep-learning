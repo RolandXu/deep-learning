{
 "cells": [
  {
   "cell_type": "markdown",
   "metadata": {
    "collapsed": true,
    "deletable": true,
    "editable": true
   },
   "source": [
    "# Image Classification\n",
    "In this project, you'll classify images from the [CIFAR-10 dataset](https://www.cs.toronto.edu/~kriz/cifar.html).  The dataset consists of airplanes, dogs, cats, and other objects. You'll preprocess the images, then train a convolutional neural network on all the samples. The images need to be normalized and the labels need to be one-hot encoded.  You'll get to apply what you learned and build a convolutional, max pooling, dropout, and fully connected layers.  At the end, you'll get to see your neural network's predictions on the sample images.\n",
    "## Get the Data\n",
    "Run the following cell to download the [CIFAR-10 dataset for python](https://www.cs.toronto.edu/~kriz/cifar-10-python.tar.gz)."
   ]
  },
  {
   "cell_type": "code",
   "execution_count": 1,
   "metadata": {
    "collapsed": false,
    "deletable": true,
    "editable": true
   },
   "outputs": [
    {
     "name": "stderr",
     "output_type": "stream",
     "text": [
      "CIFAR-10 Dataset: 171MB [00:40, 4.17MB/s]                              \n"
     ]
    },
    {
     "name": "stdout",
     "output_type": "stream",
     "text": [
      "All files found!\n"
     ]
    }
   ],
   "source": [
    "\"\"\"\n",
    "DON'T MODIFY ANYTHING IN THIS CELL THAT IS BELOW THIS LINE\n",
    "\"\"\"\n",
    "from urllib.request import urlretrieve\n",
    "from os.path import isfile, isdir\n",
    "from tqdm import tqdm\n",
    "import problem_unittests as tests\n",
    "import tarfile\n",
    "\n",
    "cifar10_dataset_folder_path = 'cifar-10-batches-py'\n",
    "\n",
    "class DLProgress(tqdm):\n",
    "    last_block = 0\n",
    "\n",
    "    def hook(self, block_num=1, block_size=1, total_size=None):\n",
    "        self.total = total_size\n",
    "        self.update((block_num - self.last_block) * block_size)\n",
    "        self.last_block = block_num\n",
    "\n",
    "if not isfile('cifar-10-python.tar.gz'):\n",
    "    with DLProgress(unit='B', unit_scale=True, miniters=1, desc='CIFAR-10 Dataset') as pbar:\n",
    "        urlretrieve(\n",
    "            'https://www.cs.toronto.edu/~kriz/cifar-10-python.tar.gz',\n",
    "            'cifar-10-python.tar.gz',\n",
    "            pbar.hook)\n",
    "\n",
    "if not isdir(cifar10_dataset_folder_path):\n",
    "    with tarfile.open('cifar-10-python.tar.gz') as tar:\n",
    "        tar.extractall()\n",
    "        tar.close()\n",
    "\n",
    "\n",
    "tests.test_folder_path(cifar10_dataset_folder_path)"
   ]
  },
  {
   "cell_type": "markdown",
   "metadata": {
    "deletable": true,
    "editable": true
   },
   "source": [
    "## Explore the Data\n",
    "The dataset is broken into batches to prevent your machine from running out of memory.  The CIFAR-10 dataset consists of 5 batches, named `data_batch_1`, `data_batch_2`, etc.. Each batch contains the labels and images that are one of the following:\n",
    "* airplane\n",
    "* automobile\n",
    "* bird\n",
    "* cat\n",
    "* deer\n",
    "* dog\n",
    "* frog\n",
    "* horse\n",
    "* ship\n",
    "* truck\n",
    "\n",
    "Understanding a dataset is part of making predictions on the data.  Play around with the code cell below by changing the `batch_id` and `sample_id`. The `batch_id` is the id for a batch (1-5). The `sample_id` is the id for a image and label pair in the batch.\n",
    "\n",
    "Ask yourself \"What are all possible labels?\", \"What is the range of values for the image data?\", \"Are the labels in order or random?\".  Answers to questions like these will help you preprocess the data and end up with better predictions."
   ]
  },
  {
   "cell_type": "code",
   "execution_count": 2,
   "metadata": {
    "collapsed": false,
    "deletable": true,
    "editable": true
   },
   "outputs": [
    {
     "name": "stdout",
     "output_type": "stream",
     "text": [
      "\n",
      "Stats of batch 4:\n",
      "Samples: 10000\n",
      "Label Counts: {0: 1003, 1: 963, 2: 1041, 3: 976, 4: 1004, 5: 1021, 6: 1004, 7: 981, 8: 1024, 9: 983}\n",
      "First 20 Labels: [0, 6, 0, 2, 7, 2, 1, 2, 4, 1, 5, 6, 6, 3, 1, 3, 5, 5, 8, 1]\n",
      "\n",
      "Example of Image 5:\n",
      "Image - Min Value: 13 Max Value: 169\n",
      "Image - Shape: (32, 32, 3)\n",
      "Label - Label Id: 2 Name: bird\n"
     ]
    },
    {
     "data": {
      "image/png": "[encoded data removed]",
      "text/plain": [
       "<matplotlib.figure.Figure at 0x7f5b448243c8>"
      ]
     },
     "metadata": {
      "image/png": {
       "height": 250,
       "width": 253
      }
     },
     "output_type": "display_data"
    }
   ],
   "source": [
    "%matplotlib inline\n",
    "%config InlineBackend.figure_format = 'retina'\n",
    "\n",
    "import helper\n",
    "import numpy as np\n",
    "\n",
    "# Explore the dataset\n",
    "batch_id = 4\n",
    "sample_id = 5\n",
    "helper.display_stats(cifar10_dataset_folder_path, batch_id, sample_id)"
   ]
  },
  {
   "cell_type": "markdown",
   "metadata": {
    "deletable": true,
    "editable": true
   },
   "source": [
    "## Implement Preprocess Functions\n",
    "### Normalize\n",
    "In the cell below, implement the `normalize` function to take in image data, `x`, and return it as a normalized Numpy array. The values should be in the range of 0 to 1, inclusive.  The return object should be the same shape as `x`."
   ]
  },
  {
   "cell_type": "code",
   "execution_count": 3,
   "metadata": {
    "collapsed": false,
    "deletable": true,
    "editable": true
   },
   "outputs": [
    {
     "name": "stdout",
     "output_type": "stream",
     "text": [
      "Tests Passed\n"
     ]
    }
   ],
   "source": [
    "def normalize(x):\n",
    "    \"\"\"\n",
    "    Normalize a list of sample image data in the range of 0 to 1\n",
    "    : x: List of image data.  The image shape is (32, 32, 3)\n",
    "    : return: Numpy array of normalize data\n",
    "    \"\"\"\n",
    "\n",
    "    normalized = np.ndarray(shape=x.shape, dtype=float)\n",
    "\n",
    "    for (index, value) in np.ndenumerate(x):\n",
    "        normalized[index] = value / float(255)\n",
    "\n",
    "    return normalized\n",
    "\n",
    "\n",
    "\"\"\"\n",
    "DON'T MODIFY ANYTHING IN THIS CELL THAT IS BELOW THIS LINE\n",
    "\"\"\"\n",
    "tests.test_normalize(normalize)"
   ]
  },
  {
   "cell_type": "markdown",
   "metadata": {
    "deletable": true,
    "editable": true
   },
   "source": [
    "### One-hot encode\n",
    "Just like the previous code cell, you'll be implementing a function for preprocessing.  This time, you'll implement the `one_hot_encode` function. The input, `x`, are a list of labels.  Implement the function to return the list of labels as One-Hot encoded Numpy array.  The possible values for labels are 0 to 9. The one-hot encoding function should return the same encoding for each value between each call to `one_hot_encode`.  Make sure to save the map of encodings outside the function.\n",
    "\n",
    "Hint: Don't reinvent the wheel."
   ]
  },
  {
   "cell_type": "code",
   "execution_count": 6,
   "metadata": {
    "collapsed": false,
    "deletable": true,
    "editable": true
   },
   "outputs": [
    {
     "name": "stdout",
     "output_type": "stream",
     "text": [
      "Tests Passed\n"
     ]
    }
   ],
   "source": [
    "def one_hot_encode(x):\n",
    "    \"\"\"\n",
    "    One hot encode a list of sample labels. Return a one-hot encoded vector for each label.\n",
    "    : x: List of sample Labels\n",
    "    : return: Numpy array of one-hot encoded labels\n",
    "    \"\"\"\n",
    "    one_hot = np.zeros((len(x), 10), dtype=np.int)\n",
    "    for k, i in enumerate(x):\n",
    "        one_hot[k][i] = 1\n",
    "    \n",
    "    return one_hot\n",
    "\n",
    "\"\"\"\n",
    "DON'T MODIFY ANYTHING IN THIS CELL THAT IS BELOW THIS LINE\n",
    "\"\"\"\n",
    "tests.test_one_hot_encode(one_hot_encode)"
   ]
  },
  {
   "cell_type": "markdown",
   "metadata": {
    "deletable": true,
    "editable": true
   },
   "source": [
    "### Randomize Data\n",
    "As you saw from exploring the data above, the order of the samples are randomized.  It doesn't hurt to randomize it again, but you don't need to for this dataset."
   ]
  },
  {
   "cell_type": "markdown",
   "metadata": {
    "deletable": true,
    "editable": true
   },
   "source": [
    "## Preprocess all the data and save it\n",
    "Running the code cell below will preprocess all the CIFAR-10 data and save it to file. The code below also uses 10% of the training data for validation."
   ]
  },
  {
   "cell_type": "code",
   "execution_count": 7,
   "metadata": {
    "collapsed": false,
    "deletable": true,
    "editable": true
   },
   "outputs": [],
   "source": [
    "\"\"\"\n",
    "DON'T MODIFY ANYTHING IN THIS CELL\n",
    "\"\"\"\n",
    "# Preprocess Training, Validation, and Testing Data\n",
    "helper.preprocess_and_save_data(cifar10_dataset_folder_path, normalize, one_hot_encode)"
   ]
  },
  {
   "cell_type": "markdown",
   "metadata": {
    "deletable": true,
    "editable": true
   },
   "source": [
    "# Check Point\n",
    "This is your first checkpoint.  If you ever decide to come back to this notebook or have to restart the notebook, you can start from here.  The preprocessed data has been saved to disk."
   ]
  },
  {
   "cell_type": "code",
   "execution_count": 19,
   "metadata": {
    "collapsed": true,
    "deletable": true,
    "editable": true
   },
   "outputs": [],
   "source": [
    "\"\"\"\n",
    "DON'T MODIFY ANYTHING IN THIS CELL\n",
    "\"\"\"\n",
    "import pickle\n",
    "import problem_unittests as tests\n",
    "import helper\n",
    "\n",
    "# Load the Preprocessed Validation data\n",
    "valid_features, valid_labels = pickle.load(open('preprocess_validation.p', mode='rb'))"
   ]
  },
  {
   "cell_type": "markdown",
   "metadata": {
    "deletable": true,
    "editable": true
   },
   "source": [
    "## Build the network\n",
    "For the neural network, you'll build each layer into a function.  Most of the code you've seen has been outside of functions. To test your code more thoroughly, we require that you put each layer in a function.  This allows us to give you better feedback and test for simple mistakes using our unittests before you submit your project.\n",
    "\n",
    ">**Note:** If you're finding it hard to dedicate enough time for this course each week, we've provided a small shortcut to this part of the project. In the next couple of problems, you'll have the option to use classes from the [TensorFlow Layers](https://www.tensorflow.org/api_docs/python/tf/layers) or [TensorFlow Layers (contrib)](https://www.tensorflow.org/api_guides/python/contrib.layers) packages to build each layer, except the layers you build in the \"Convolutional and Max Pooling Layer\" section.  TF Layers is similar to Keras's and TFLearn's abstraction to layers, so it's easy to pickup.\n",
    "\n",
    ">However, if you would like to get the most out of this course, try to solve all the problems _without_ using anything from the TF Layers packages. You **can** still use classes from other packages that happen to have the same name as ones you find in TF Layers! For example, instead of using the TF Layers version of the `conv2d` class, [tf.layers.conv2d](https://www.tensorflow.org/api_docs/python/tf/layers/conv2d), you would want to use the TF Neural Network version of `conv2d`, [tf.nn.conv2d](https://www.tensorflow.org/api_docs/python/tf/nn/conv2d). \n",
    "\n",
    "Let's begin!\n",
    "\n",
    "### Input\n",
    "The neural network needs to read the image data, one-hot encoded labels, and dropout keep probability. Implement the following functions\n",
    "* Implement `neural_net_image_input`\n",
    " * Return a [TF Placeholder](https://www.tensorflow.org/api_docs/python/tf/placeholder)\n",
    " * Set the shape using `image_shape` with batch size set to `None`.\n",
    " * Name the TensorFlow placeholder \"x\" using the TensorFlow `name` parameter in the [TF Placeholder](https://www.tensorflow.org/api_docs/python/tf/placeholder).\n",
    "* Implement `neural_net_label_input`\n",
    " * Return a [TF Placeholder](https://www.tensorflow.org/api_docs/python/tf/placeholder)\n",
    " * Set the shape using `n_classes` with batch size set to `None`.\n",
    " * Name the TensorFlow placeholder \"y\" using the TensorFlow `name` parameter in the [TF Placeholder](https://www.tensorflow.org/api_docs/python/tf/placeholder).\n",
    "* Implement `neural_net_keep_prob_input`\n",
    " * Return a [TF Placeholder](https://www.tensorflow.org/api_docs/python/tf/placeholder) for dropout keep probability.\n",
    " * Name the TensorFlow placeholder \"keep_prob\" using the TensorFlow `name` parameter in the [TF Placeholder](https://www.tensorflow.org/api_docs/python/tf/placeholder).\n",
    "\n",
    "These names will be used at the end of the project to load your saved model.\n",
    "\n",
    "Note: `None` for shapes in TensorFlow allow for a dynamic size."
   ]
  },
  {
   "cell_type": "code",
   "execution_count": 20,
   "metadata": {
    "collapsed": false,
    "deletable": true,
    "editable": true
   },
   "outputs": [
    {
     "name": "stdout",
     "output_type": "stream",
     "text": [
      "Image Input Tests Passed.\n",
      "Label Input Tests Passed.\n",
      "Keep Prob Tests Passed.\n"
     ]
    }
   ],
   "source": [
    "import tensorflow as tf\n",
    "\n",
    "\n",
    "def neural_net_image_input(image_shape):\n",
    "    \"\"\"\n",
    "    Return a Tensor for a bach of image input\n",
    "    : image_shape: Shape of the images\n",
    "    : return: Tensor for image input.\n",
    "    \"\"\"\n",
    "    return tf.placeholder(tf.float32, shape=(None, ) + image_shape, name='x')\n",
    "\n",
    "\n",
    "def neural_net_label_input(n_classes):\n",
    "    \"\"\"\n",
    "    Return a Tensor for a batch of label input\n",
    "    : n_classes: Number of classes\n",
    "    : return: Tensor for label input.\n",
    "    \"\"\"\n",
    "    return tf.placeholder(tf.float32, shape=(None, n_classes), name='y')\n",
    "\n",
    "\n",
    "def neural_net_keep_prob_input():\n",
    "    \"\"\"\n",
    "    Return a Tensor for keep probability\n",
    "    : return: Tensor for keep probability.\n",
    "    \"\"\"\n",
    "    return tf.placeholder(tf.float32, name='keep_prob')\n",
    "\n",
    "\n",
    "\"\"\"\n",
    "DON'T MODIFY ANYTHING IN THIS CELL THAT IS BELOW THIS LINE\n",
    "\"\"\"\n",
    "tf.reset_default_graph()\n",
    "tests.test_nn_image_inputs(neural_net_image_input)\n",
    "tests.test_nn_label_inputs(neural_net_label_input)\n",
    "tests.test_nn_keep_prob_inputs(neural_net_keep_prob_input)"
   ]
  },
  {
   "cell_type": "markdown",
   "metadata": {
    "deletable": true,
    "editable": true
   },
   "source": [
    "### Convolution and Max Pooling Layer\n",
    "Convolution layers have a lot of success with images. For this code cell, you should implement the function `conv2d_maxpool` to apply convolution then max pooling:\n",
    "* Create the weight and bias using `conv_ksize`, `conv_num_outputs` and the shape of `x_tensor`.\n",
    "* Apply a convolution to `x_tensor` using weight and `conv_strides`.\n",
    " * We recommend you use same padding, but you're welcome to use any padding.\n",
    "* Add bias\n",
    "* Add a nonlinear activation to the convolution.\n",
    "* Apply Max Pooling using `pool_ksize` and `pool_strides`.\n",
    " * We recommend you use same padding, but you're welcome to use any padding.\n",
    "\n",
    "**Note:** You **can't** use [TensorFlow Layers](https://www.tensorflow.org/api_docs/python/tf/layers) or [TensorFlow Layers (contrib)](https://www.tensorflow.org/api_guides/python/contrib.layers) for **this** layer, but you can still use TensorFlow's [Neural Network](https://www.tensorflow.org/api_docs/python/tf/nn) package. You may still use the shortcut option for all the **other** layers."
   ]
  },
  {
   "cell_type": "code",
   "execution_count": 21,
   "metadata": {
    "collapsed": false,
    "deletable": true,
    "editable": true
   },
   "outputs": [
    {
     "name": "stdout",
     "output_type": "stream",
     "text": [
      "Tests Passed\n"
     ]
    }
   ],
   "source": [
    "def conv2d_maxpool(x_tensor, conv_num_outputs, conv_ksize, conv_strides,\n",
    "                   pool_ksize, pool_strides):\n",
    "    \"\"\"\n",
    "    Apply convolution then max pooling to x_tensor\n",
    "    :param x_tensor: TensorFlow Tensor\n",
    "    :param conv_num_outputs: Number of outputs for the convolutional layer\n",
    "    :param conv_ksize: kernal size 2-D Tuple for the convolutional layer\n",
    "    :param conv_strides: Stride 2-D Tuple for convolution\n",
    "    :param pool_ksize: kernal size 2-D Tuple for pool\n",
    "    :param pool_strides: Stride 2-D Tuple for pool\n",
    "    : return: A tensor that represents convolution and max pooling of x_tensor\n",
    "    \"\"\"\n",
    "\n",
    "    # print(conv_num_outputs, x_tensor.get_shape(), conv_ksize, conv_strides)\n",
    "    # print(pool_ksize, pool_strides)\n",
    "\n",
    "    # Create weight and bias\n",
    "    color_channels = x_tensor.get_shape().as_list()[-1]\n",
    "    weight_shape = [*conv_ksize, color_channels, conv_num_outputs]\n",
    "    weight = tf.Variable(tf.random_normal(weight_shape))\n",
    "    bias = tf.Variable(tf.random_normal([conv_num_outputs]))\n",
    "\n",
    "    # apply a convolution and add bias\n",
    "    x_tensor = tf.nn.conv2d(\n",
    "        x_tensor, weight, strides=[1, *conv_strides, 1], padding='SAME')\n",
    "\n",
    "    x_tensor = tf.nn.bias_add(x_tensor, bias)\n",
    "\n",
    "    # Add a nonlinear activation\n",
    "    x_tensor = tf.nn.relu(x_tensor)\n",
    "\n",
    "    x_tensor = tf.nn.max_pool(\n",
    "        x_tensor,\n",
    "        ksize=[1, *pool_ksize, 1],\n",
    "        strides=[1, *pool_strides, 1],\n",
    "        padding='SAME')\n",
    "\n",
    "    #print(\"x_tensor\", x_tensor.get_shape())\n",
    "    return x_tensor\n",
    "\n",
    "\n",
    "\"\"\"\n",
    "DON'T MODIFY ANYTHING IN THIS CELL THAT IS BELOW THIS LINE\n",
    "\"\"\"\n",
    "tests.test_con_pool(conv2d_maxpool)"
   ]
  },
  {
   "cell_type": "markdown",
   "metadata": {
    "deletable": true,
    "editable": true
   },
   "source": [
    "### Flatten Layer\n",
    "Implement the `flatten` function to change the dimension of `x_tensor` from a 4-D tensor to a 2-D tensor.  The output should be the shape (*Batch Size*, *Flattened Image Size*). Shortcut option: you can use classes from the [TensorFlow Layers](https://www.tensorflow.org/api_docs/python/tf/layers) or [TensorFlow Layers (contrib)](https://www.tensorflow.org/api_guides/python/contrib.layers) packages for this layer. For more of a challenge, only use other TensorFlow packages."
   ]
  },
  {
   "cell_type": "code",
   "execution_count": 22,
   "metadata": {
    "collapsed": false,
    "deletable": true,
    "editable": true
   },
   "outputs": [
    {
     "name": "stdout",
     "output_type": "stream",
     "text": [
      "Tests Passed\n"
     ]
    }
   ],
   "source": [
    "def flatten(x_tensor):\n",
    "    \"\"\"\n",
    "    Flatten x_tensor to (Batch Size, Flattened Image Size)\n",
    "    : x_tensor: A tensor of size (Batch Size, ...), where ... are the image dimensions.\n",
    "    : return: A tensor of size (Batch Size, Flattened Image Size).\n",
    "    \"\"\"\n",
    "    dim = np.prod(x_tensor.get_shape().as_list()[1:])\n",
    "    x_tensor = tf.reshape(x_tensor, [-1, dim])\n",
    "    #print(x_tensor.get_shape())\n",
    "    return x_tensor\n",
    "\n",
    "\n",
    "\"\"\"\n",
    "DON'T MODIFY ANYTHING IN THIS CELL THAT IS BELOW THIS LINE\n",
    "\"\"\"\n",
    "tests.test_flatten(flatten)"
   ]
  },
  {
   "cell_type": "markdown",
   "metadata": {
    "deletable": true,
    "editable": true
   },
   "source": [
    "### Fully-Connected Layer\n",
    "Implement the `fully_conn` function to apply a fully connected layer to `x_tensor` with the shape (*Batch Size*, *num_outputs*). Shortcut option: you can use classes from the [TensorFlow Layers](https://www.tensorflow.org/api_docs/python/tf/layers) or [TensorFlow Layers (contrib)](https://www.tensorflow.org/api_guides/python/contrib.layers) packages for this layer. For more of a challenge, only use other TensorFlow packages."
   ]
  },
  {
   "cell_type": "code",
   "execution_count": 23,
   "metadata": {
    "collapsed": false,
    "deletable": true,
    "editable": true
   },
   "outputs": [
    {
     "name": "stdout",
     "output_type": "stream",
     "text": [
      "Tests Passed\n"
     ]
    }
   ],
   "source": [
    "def fully_conn(x_tensor, num_outputs):\n",
    "    \"\"\"\n",
    "    Apply a fully connected layer to x_tensor using weight and bias\n",
    "    : x_tensor: A 2-D tensor where the first dimension is batch size.\n",
    "    : num_outputs: The number of output that the new tensor should be.\n",
    "    : return: A 2-D tensor where the second dimension is num_outputs.\n",
    "    \"\"\"\n",
    "    # print (x_tensor.get_shape().as_list())\n",
    "    \n",
    "    x_shape = x_tensor.get_shape().as_list()[1:]\n",
    "    weight_shape = [*x_shape, num_outputs]\n",
    "    \n",
    "    weight = tf.Variable(tf.random_normal(weight_shape))\n",
    "    bias = tf.Variable(tf.random_normal([num_outputs]))\n",
    "    \n",
    "    x_tensor = tf.add(tf.matmul(x_tensor, weight), bias)\n",
    "    \n",
    "    return x_tensor\n",
    "\n",
    "\n",
    "\"\"\"\n",
    "DON'T MODIFY ANYTHING IN THIS CELL THAT IS BELOW THIS LINE\n",
    "\"\"\"\n",
    "tests.test_fully_conn(fully_conn)"
   ]
  },
  {
   "cell_type": "markdown",
   "metadata": {
    "deletable": true,
    "editable": true
   },
   "source": [
    "### Output Layer\n",
    "Implement the `output` function to apply a fully connected layer to `x_tensor` with the shape (*Batch Size*, *num_outputs*). Shortcut option: you can use classes from the [TensorFlow Layers](https://www.tensorflow.org/api_docs/python/tf/layers) or [TensorFlow Layers (contrib)](https://www.tensorflow.org/api_guides/python/contrib.layers) packages for this layer. For more of a challenge, only use other TensorFlow packages.\n",
    "\n",
    "**Note:** Activation, softmax, or cross entropy should **not** be applied to this."
   ]
  },
  {
   "cell_type": "code",
   "execution_count": 24,
   "metadata": {
    "collapsed": false,
    "deletable": true,
    "editable": true
   },
   "outputs": [
    {
     "name": "stdout",
     "output_type": "stream",
     "text": [
      "Tests Passed\n"
     ]
    }
   ],
   "source": [
    "def output(x_tensor, num_outputs):\n",
    "    \"\"\"\n",
    "    Apply a output layer to x_tensor using weight and bias\n",
    "    : x_tensor: A 2-D tensor where the first dimension is batch size.\n",
    "    : num_outputs: The number of output that the new tensor should be.\n",
    "    : return: A 2-D tensor where the second dimension is num_outputs.\n",
    "    \"\"\"\n",
    "    # print (x_tensor.get_shape().as_list())\n",
    "    x_shape = x_tensor.get_shape().as_list()[1:]\n",
    "    weight_shape = [*x_shape, num_outputs]\n",
    "    \n",
    "    weight = tf.Variable(tf.random_normal(weight_shape))\n",
    "    bias = tf.Variable(tf.random_normal([num_outputs]))\n",
    "    \n",
    "    x_tensor = tf.add(tf.matmul(x_tensor, weight), bias)\n",
    "    \n",
    "    return x_tensor\n",
    "\n",
    "\n",
    "\"\"\"\n",
    "DON'T MODIFY ANYTHING IN THIS CELL THAT IS BELOW THIS LINE\n",
    "\"\"\"\n",
    "tests.test_output(output)"
   ]
  },
  {
   "cell_type": "markdown",
   "metadata": {
    "deletable": true,
    "editable": true
   },
   "source": [
    "### Create Convolutional Model\n",
    "Implement the function `conv_net` to create a convolutional neural network model. The function takes in a batch of images, `x`, and outputs logits.  Use the layers you created above to create this model:\n",
    "\n",
    "* Apply 1, 2, or 3 Convolution and Max Pool layers\n",
    "* Apply a Flatten Layer\n",
    "* Apply 1, 2, or 3 Fully Connected Layers\n",
    "* Apply an Output Layer\n",
    "* Return the output\n",
    "* Apply [TensorFlow's Dropout](https://www.tensorflow.org/api_docs/python/tf/nn/dropout) to one or more layers in the model using `keep_prob`. "
   ]
  },
  {
   "cell_type": "code",
   "execution_count": 25,
   "metadata": {
    "collapsed": false,
    "deletable": true,
    "editable": true
   },
   "outputs": [
    {
     "name": "stdout",
     "output_type": "stream",
     "text": [
      "Neural Network Built!\n"
     ]
    }
   ],
   "source": [
    "def conv_net(x, keep_prob):\n",
    "    \"\"\"\n",
    "    Create a convolutional neural network model\n",
    "    : x: Placeholder tensor that holds image data.\n",
    "    : keep_prob: Placeholder tensor that hold dropout keep probability.\n",
    "    : return: Tensor that represents logits\n",
    "    \"\"\"\n",
    "    #print (x.get_shape())\n",
    "    x_tensor = x\n",
    "    # TODO: Apply 1, 2, or 3 Convolution and Max Pool layers\n",
    "    #    Play around with different number of outputs, kernel size and stride\n",
    "    # Function Definition from Above:\n",
    "    #    conv2d_maxpool(x_tensor, conv_num_outputs, conv_ksize, conv_strides, pool_ksize, pool_strides)\n",
    "    conv_num_outputs = 32\n",
    "    conv_ksize = (3, 3)\n",
    "    conv_strides = (1, 1)\n",
    "    pool_ksize = (3, 3)\n",
    "    pool_strides = (2, 2)\n",
    "    x_tensor = conv2d_maxpool(x_tensor, conv_num_outputs, conv_ksize,\n",
    "                              conv_strides, pool_ksize, pool_strides)\n",
    "\n",
    "    conv_num_outputs = 64\n",
    "    conv_ksize = (3, 3)\n",
    "    pool_ksize = (3, 3)\n",
    "    pool_strides = (2, 2)\n",
    "    x_tensor = conv2d_maxpool(x_tensor, conv_num_outputs, conv_ksize,\n",
    "                              conv_strides, pool_ksize, pool_strides)\n",
    "\n",
    "    #x_tensor = tf.nn.dropout(x_tensor, keep_prob)\n",
    "\n",
    "    conv_num_outputs = 128\n",
    "    conv_ksize = (2, 2)\n",
    "    pool_ksize = (2, 2)\n",
    "    pool_strides = (1, 1)\n",
    "    x_tensor = conv2d_maxpool(x_tensor, conv_num_outputs, conv_ksize,\n",
    "                              conv_strides, pool_ksize, pool_strides)\n",
    "\n",
    "    # TODO: Apply a Flatten Layer\n",
    "    # Function Definition from Above:\n",
    "    #   flatten(x_tensor)\n",
    "    x_tensor = flatten(x_tensor)\n",
    "\n",
    "    # TODO: Apply 1, 2, or 3 Fully Connected Layers\n",
    "    #    Play around with different number of outputs\n",
    "    # Function Definition from Above:\n",
    "    #   fully_conn(x_tensor, num_outputs)\n",
    "    num_outputs = 2048\n",
    "    x_tensor = fully_conn(x_tensor, num_outputs)\n",
    "\n",
    "    x_tensor = tf.nn.dropout(x_tensor, keep_prob)\n",
    "\n",
    "    num_outputs = 1024\n",
    "    x_tensor = fully_conn(x_tensor, num_outputs)\n",
    "\n",
    "    #x_tensor = tf.nn.dropout(x_tensor, keep_prob)\n",
    "    #num_outputs = 512\n",
    "    #x_tensor = fully_conn(x_tensor, num_outputs)\n",
    "\n",
    "    # TODO: Apply an Output Layer\n",
    "    #    Set this to the number of classes\n",
    "    # Function Definition from Above:\n",
    "    #   output(x_tensor, num_outputs)\n",
    "    n_classes = 10\n",
    "    x_tensor = output(x_tensor, n_classes)\n",
    "\n",
    "    # TODO: return output\n",
    "    return x_tensor\n",
    "\n",
    "\n",
    "\"\"\"\n",
    "DON'T MODIFY ANYTHING IN THIS CELL THAT IS BELOW THIS LINE\n",
    "\"\"\"\n",
    "\n",
    "##############################\n",
    "## Build the Neural Network ##\n",
    "##############################\n",
    "\n",
    "# Remove previous weights, bias, inputs, etc..\n",
    "tf.reset_default_graph()\n",
    "\n",
    "# Inputs\n",
    "x = neural_net_image_input((32, 32, 3))\n",
    "y = neural_net_label_input(10)\n",
    "keep_prob = neural_net_keep_prob_input()\n",
    "\n",
    "# Model\n",
    "logits = conv_net(x, keep_prob)\n",
    "\n",
    "# Name logits Tensor, so that is can be loaded from disk after training\n",
    "logits = tf.identity(logits, name='logits')\n",
    "\n",
    "# Loss and Optimizer\n",
    "cost = tf.reduce_mean(\n",
    "    tf.nn.softmax_cross_entropy_with_logits(logits=logits, labels=y))\n",
    "optimizer = tf.train.AdamOptimizer().minimize(cost)\n",
    "\n",
    "# Accuracy\n",
    "correct_pred = tf.equal(tf.argmax(logits, 1), tf.argmax(y, 1))\n",
    "accuracy = tf.reduce_mean(tf.cast(correct_pred, tf.float32), name='accuracy')\n",
    "\n",
    "tests.test_conv_net(conv_net)"
   ]
  },
  {
   "cell_type": "markdown",
   "metadata": {
    "deletable": true,
    "editable": true
   },
   "source": [
    "## Train the Neural Network\n",
    "### Single Optimization\n",
    "Implement the function `train_neural_network` to do a single optimization.  The optimization should use `optimizer` to optimize in `session` with a `feed_dict` of the following:\n",
    "* `x` for image input\n",
    "* `y` for labels\n",
    "* `keep_prob` for keep probability for dropout\n",
    "\n",
    "This function will be called for each batch, so `tf.global_variables_initializer()` has already been called.\n",
    "\n",
    "Note: Nothing needs to be returned. This function is only optimizing the neural network."
   ]
  },
  {
   "cell_type": "code",
   "execution_count": 26,
   "metadata": {
    "collapsed": false,
    "deletable": true,
    "editable": true
   },
   "outputs": [
    {
     "name": "stdout",
     "output_type": "stream",
     "text": [
      "Tests Passed\n"
     ]
    }
   ],
   "source": [
    "def train_neural_network(session, optimizer, keep_probability, feature_batch,\n",
    "                         label_batch):\n",
    "    \"\"\"\n",
    "    Optimize the session on a batch of images and labels\n",
    "    : session: Current TensorFlow session\n",
    "    : optimizer: TensorFlow optimizer function\n",
    "    : keep_probability: keep probability\n",
    "    : feature_batch: Batch of Numpy image data\n",
    "    : label_batch: Batch of Numpy label data\n",
    "    \"\"\"\n",
    "    #print(keep_probability, feature_batch.shape, label_batch.shape)\n",
    "\n",
    "    session.run(\n",
    "        optimizer,\n",
    "        feed_dict={\n",
    "            x: feature_batch,\n",
    "            y: label_batch,\n",
    "            keep_prob: keep_probability\n",
    "        })\n",
    "    pass\n",
    "\n",
    "\n",
    "\"\"\"\n",
    "DON'T MODIFY ANYTHING IN THIS CELL THAT IS BELOW THIS LINE\n",
    "\"\"\"\n",
    "tests.test_train_nn(train_neural_network)"
   ]
  },
  {
   "cell_type": "markdown",
   "metadata": {
    "deletable": true,
    "editable": true
   },
   "source": [
    "### Show Stats\n",
    "Implement the function `print_stats` to print loss and validation accuracy.  Use the global variables `valid_features` and `valid_labels` to calculate validation accuracy.  Use a keep probability of `1.0` to calculate the loss and validation accuracy."
   ]
  },
  {
   "cell_type": "code",
   "execution_count": 27,
   "metadata": {
    "collapsed": false,
    "deletable": true,
    "editable": true
   },
   "outputs": [],
   "source": [
    "import datetime\n",
    "\n",
    "\n",
    "def print_stats(session, feature_batch, label_batch, cost, accuracy):\n",
    "    \"\"\"\n",
    "    Print information about loss and validation accuracy\n",
    "    : session: Current TensorFlow session\n",
    "    : feature_batch: Batch of Numpy image data\n",
    "    : label_batch: Batch of Numpy label data\n",
    "    : cost: TensorFlow cost function\n",
    "    : accuracy: TensorFlow accuracy function\n",
    "    \"\"\"\n",
    "    loss = session.run(\n",
    "        cost, feed_dict={x: feature_batch,\n",
    "                         y: label_batch,\n",
    "                         keep_prob: 1.})\n",
    "\n",
    "    valid_acc = session.run(\n",
    "        accuracy,\n",
    "        feed_dict={x: valid_features,\n",
    "                   y: valid_labels,\n",
    "                   keep_prob: 1.})\n",
    "\n",
    "    print(\n",
    "        datetime.datetime.now().time(),\n",
    "        'Loss: {:>10.4f} Validation Accuracy: {:.6f}'.format(loss, valid_acc))\n",
    "\n",
    "    pass"
   ]
  },
  {
   "cell_type": "markdown",
   "metadata": {
    "deletable": true,
    "editable": true
   },
   "source": [
    "### Hyperparameters\n",
    "Tune the following parameters:\n",
    "* Set `epochs` to the number of iterations until the network stops learning or start overfitting\n",
    "* Set `batch_size` to the highest number that your machine has memory for.  Most people set them to common sizes of memory:\n",
    " * 64\n",
    " * 128\n",
    " * 256\n",
    " * ...\n",
    "* Set `keep_probability` to the probability of keeping a node using dropout"
   ]
  },
  {
   "cell_type": "code",
   "execution_count": 33,
   "metadata": {
    "collapsed": true,
    "deletable": true,
    "editable": true
   },
   "outputs": [],
   "source": [
    "# TODO: Tune Parameters\n",
    "epochs = 20\n",
    "batch_size = 1024\n",
    "keep_probability = 0.3"
   ]
  },
  {
   "cell_type": "markdown",
   "metadata": {
    "deletable": true,
    "editable": true
   },
   "source": [
    "### Train on a Single CIFAR-10 Batch\n",
    "Instead of training the neural network on all the CIFAR-10 batches of data, let's use a single batch. This should save time while you iterate on the model to get a better accuracy.  Once the final validation accuracy is 50% or greater, run the model on all the data in the next section."
   ]
  },
  {
   "cell_type": "code",
   "execution_count": 32,
   "metadata": {
    "collapsed": false,
    "deletable": true,
    "editable": true
   },
   "outputs": [
    {
     "name": "stdout",
     "output_type": "stream",
     "text": [
      "Checking the Training on a Single Batch...\n",
      "Epoch  1, CIFAR-10 Batch 1:  16:11:42.383334 Loss: 31521018.0000 Validation Accuracy: 0.167000\n",
      "Epoch  2, CIFAR-10 Batch 1:  16:11:46.094401 Loss: 14776908.0000 Validation Accuracy: 0.240000\n",
      "Epoch  3, CIFAR-10 Batch 1:  16:11:49.817284 Loss: 11992650.0000 Validation Accuracy: 0.299800\n",
      "Epoch  4, CIFAR-10 Batch 1:  16:11:53.528115 Loss: 11961056.0000 Validation Accuracy: 0.334800\n",
      "Epoch  5, CIFAR-10 Batch 1:  16:11:57.254441 Loss: 10967076.0000 Validation Accuracy: 0.350600\n",
      "Epoch  6, CIFAR-10 Batch 1:  16:12:00.981077 Loss: 9257088.0000 Validation Accuracy: 0.364400\n",
      "Epoch  7, CIFAR-10 Batch 1:  16:12:04.704374 Loss: 7784327.0000 Validation Accuracy: 0.388400\n",
      "Epoch  8, CIFAR-10 Batch 1:  16:12:08.426571 Loss: 7030451.0000 Validation Accuracy: 0.398600\n",
      "Epoch  9, CIFAR-10 Batch 1:  16:12:12.146057 Loss: 6133131.0000 Validation Accuracy: 0.401400\n",
      "Epoch 10, CIFAR-10 Batch 1:  16:12:15.868132 Loss: 5380317.5000 Validation Accuracy: 0.411600\n",
      "Epoch 11, CIFAR-10 Batch 1:  16:12:19.591868 Loss: 4935196.5000 Validation Accuracy: 0.421600\n",
      "Epoch 12, CIFAR-10 Batch 1:  16:12:23.316447 Loss: 4720072.5000 Validation Accuracy: 0.424800\n",
      "Epoch 13, CIFAR-10 Batch 1:  16:12:27.040751 Loss: 4327931.0000 Validation Accuracy: 0.433800\n",
      "Epoch 14, CIFAR-10 Batch 1:  16:12:30.763395 Loss: 4244982.0000 Validation Accuracy: 0.436600\n",
      "Epoch 15, CIFAR-10 Batch 1:  16:12:34.485404 Loss: 3973797.2500 Validation Accuracy: 0.445600\n",
      "Epoch 16, CIFAR-10 Batch 1:  16:12:38.208255 Loss: 3770358.7500 Validation Accuracy: 0.447000\n",
      "Epoch 17, CIFAR-10 Batch 1:  16:12:41.930249 Loss: 3585385.2500 Validation Accuracy: 0.447800\n",
      "Epoch 18, CIFAR-10 Batch 1:  16:12:45.656631 Loss: 3328546.7500 Validation Accuracy: 0.448200\n",
      "Epoch 19, CIFAR-10 Batch 1:  16:12:49.380334 Loss: 3166966.7500 Validation Accuracy: 0.453600\n",
      "Epoch 20, CIFAR-10 Batch 1:  16:12:53.103344 Loss: 3099593.5000 Validation Accuracy: 0.452800\n",
      "Epoch 21, CIFAR-10 Batch 1:  16:12:56.826163 Loss: 2944331.7500 Validation Accuracy: 0.463200\n",
      "Epoch 22, CIFAR-10 Batch 1:  16:13:00.552572 Loss: 2906790.0000 Validation Accuracy: 0.463000\n",
      "Epoch 23, CIFAR-10 Batch 1:  16:13:04.274736 Loss: 2725353.2500 Validation Accuracy: 0.463800\n",
      "Epoch 24, CIFAR-10 Batch 1:  16:13:07.993687 Loss: 2566083.7500 Validation Accuracy: 0.464200\n",
      "Epoch 25, CIFAR-10 Batch 1:  16:13:11.716170 Loss: 2509640.0000 Validation Accuracy: 0.461200\n",
      "Epoch 26, CIFAR-10 Batch 1:  16:13:15.436668 Loss: 2391737.2500 Validation Accuracy: 0.470200\n",
      "Epoch 27, CIFAR-10 Batch 1:  16:13:19.156861 Loss: 2379788.2500 Validation Accuracy: 0.475400\n",
      "Epoch 28, CIFAR-10 Batch 1:  16:13:22.873920 Loss: 2289167.0000 Validation Accuracy: 0.475000\n",
      "Epoch 29, CIFAR-10 Batch 1:  16:13:26.591420 Loss: 2162564.5000 Validation Accuracy: 0.475800\n",
      "Epoch 30, CIFAR-10 Batch 1:  16:13:30.302664 Loss: 2077245.7500 Validation Accuracy: 0.473000\n",
      "Epoch 31, CIFAR-10 Batch 1:  16:13:34.026062 Loss: 2031346.0000 Validation Accuracy: 0.482400\n",
      "Epoch 32, CIFAR-10 Batch 1:  16:13:37.746358 Loss: 1959182.3750 Validation Accuracy: 0.481000\n",
      "Epoch 33, CIFAR-10 Batch 1:  16:13:41.466315 Loss: 1895483.2500 Validation Accuracy: 0.479000\n",
      "Epoch 34, CIFAR-10 Batch 1:  16:13:45.191753 Loss: 1822991.6250 Validation Accuracy: 0.492200\n",
      "Epoch 35, CIFAR-10 Batch 1:  16:13:48.912596 Loss: 1782700.2500 Validation Accuracy: 0.489200\n",
      "Epoch 36, CIFAR-10 Batch 1:  16:13:52.634462 Loss: 1756945.3750 Validation Accuracy: 0.484400\n",
      "Epoch 37, CIFAR-10 Batch 1:  16:13:56.344458 Loss: 1693780.5000 Validation Accuracy: 0.490200\n",
      "Epoch 38, CIFAR-10 Batch 1:  16:14:00.066611 Loss: 1642206.1250 Validation Accuracy: 0.494000\n",
      "Epoch 39, CIFAR-10 Batch 1:  16:14:03.779117 Loss: 1592109.2500 Validation Accuracy: 0.494400\n",
      "Epoch 40, CIFAR-10 Batch 1:  16:14:07.497918 Loss: 1541581.7500 Validation Accuracy: 0.494000\n",
      "Epoch 41, CIFAR-10 Batch 1:  16:14:11.221788 Loss: 1510983.1250 Validation Accuracy: 0.500600\n",
      "Epoch 42, CIFAR-10 Batch 1:  16:14:14.945620 Loss: 1482771.7500 Validation Accuracy: 0.501400\n",
      "Epoch 43, CIFAR-10 Batch 1:  16:14:18.668084 Loss: 1395839.6250 Validation Accuracy: 0.502800\n",
      "Epoch 44, CIFAR-10 Batch 1:  16:14:22.391288 Loss: 1372669.3750 Validation Accuracy: 0.499000\n",
      "Epoch 45, CIFAR-10 Batch 1:  16:14:26.110460 Loss: 1349973.6250 Validation Accuracy: 0.498200\n",
      "Epoch 46, CIFAR-10 Batch 1:  16:14:29.833657 Loss: 1270984.8750 Validation Accuracy: 0.503200\n",
      "Epoch 47, CIFAR-10 Batch 1:  16:14:33.559564 Loss: 1262208.1250 Validation Accuracy: 0.501200\n",
      "Epoch 48, CIFAR-10 Batch 1:  16:14:37.276231 Loss: 1233216.2500 Validation Accuracy: 0.509600\n",
      "Epoch 49, CIFAR-10 Batch 1:  16:14:40.994302 Loss: 1197790.5000 Validation Accuracy: 0.513800\n",
      "Epoch 50, CIFAR-10 Batch 1:  16:14:44.719577 Loss: 1168921.5000 Validation Accuracy: 0.506400\n"
     ]
    }
   ],
   "source": [
    "\"\"\"\n",
    "DON'T MODIFY ANYTHING IN THIS CELL\n",
    "\"\"\"\n",
    "print('Checking the Training on a Single Batch...')\n",
    "with tf.Session() as sess:\n",
    "    # Initializing the variables\n",
    "    sess.run(tf.global_variables_initializer())\n",
    "    \n",
    "    # Training cycle\n",
    "    for epoch in range(epochs):\n",
    "        batch_i = 1\n",
    "        for batch_features, batch_labels in helper.load_preprocess_training_batch(batch_i, batch_size):\n",
    "            train_neural_network(sess, optimizer, keep_probability, batch_features, batch_labels)\n",
    "        print('Epoch {:>2}, CIFAR-10 Batch {}:  '.format(epoch + 1, batch_i), end='')\n",
    "        print_stats(sess, batch_features, batch_labels, cost, accuracy)"
   ]
  },
  {
   "cell_type": "markdown",
   "metadata": {
    "deletable": true,
    "editable": true
   },
   "source": [
    "### Fully Train the Model\n",
    "Now that you got a good accuracy with a single CIFAR-10 batch, try it with all five batches."
   ]
  },
  {
   "cell_type": "code",
   "execution_count": 35,
   "metadata": {
    "collapsed": false,
    "deletable": true,
    "editable": true
   },
   "outputs": [
    {
     "name": "stdout",
     "output_type": "stream",
     "text": [
      "Training...\n",
      "Epoch  1, CIFAR-10 Batch 1:  16:20:34.954731 Loss: 26637394.0000 Validation Accuracy: 0.150600\n",
      "Epoch  1, CIFAR-10 Batch 2:  16:20:38.679950 Loss: 17000478.0000 Validation Accuracy: 0.224600\n",
      "Epoch  1, CIFAR-10 Batch 3:  16:20:42.402613 Loss: 11932475.0000 Validation Accuracy: 0.282000\n",
      "Epoch  1, CIFAR-10 Batch 4:  16:20:46.127344 Loss: 10598655.0000 Validation Accuracy: 0.300400\n",
      "Epoch  1, CIFAR-10 Batch 5:  16:20:49.844942 Loss: 9365634.0000 Validation Accuracy: 0.340200\n",
      "Epoch  2, CIFAR-10 Batch 1:  16:20:53.572107 Loss: 8513179.0000 Validation Accuracy: 0.372200\n",
      "Epoch  2, CIFAR-10 Batch 2:  16:20:57.302733 Loss: 7495295.0000 Validation Accuracy: 0.382000\n",
      "Epoch  2, CIFAR-10 Batch 3:  16:21:01.024124 Loss: 6467853.5000 Validation Accuracy: 0.396200\n",
      "Epoch  2, CIFAR-10 Batch 4:  16:21:04.749797 Loss: 5609300.5000 Validation Accuracy: 0.406800\n",
      "Epoch  2, CIFAR-10 Batch 5:  16:21:08.475022 Loss: 5517502.5000 Validation Accuracy: 0.414400\n",
      "Epoch  3, CIFAR-10 Batch 1:  16:21:12.190284 Loss: 4968069.0000 Validation Accuracy: 0.426400\n",
      "Epoch  3, CIFAR-10 Batch 2:  16:21:15.915392 Loss: 4555754.0000 Validation Accuracy: 0.430400\n",
      "Epoch  3, CIFAR-10 Batch 3:  16:21:19.626049 Loss: 4251250.0000 Validation Accuracy: 0.437200\n",
      "Epoch  3, CIFAR-10 Batch 4:  16:21:23.348911 Loss: 3948175.5000 Validation Accuracy: 0.442000\n",
      "Epoch  3, CIFAR-10 Batch 5:  16:21:27.075353 Loss: 3932854.2500 Validation Accuracy: 0.447600\n",
      "Epoch  4, CIFAR-10 Batch 1:  16:21:30.802995 Loss: 3558673.5000 Validation Accuracy: 0.458400\n",
      "Epoch  4, CIFAR-10 Batch 2:  16:21:34.526775 Loss: 3479724.5000 Validation Accuracy: 0.459000\n",
      "Epoch  4, CIFAR-10 Batch 3:  16:21:38.250116 Loss: 3171539.2500 Validation Accuracy: 0.462800\n",
      "Epoch  4, CIFAR-10 Batch 4:  16:21:41.962214 Loss: 3091003.5000 Validation Accuracy: 0.471400\n",
      "Epoch  4, CIFAR-10 Batch 5:  16:21:45.676231 Loss: 3165408.5000 Validation Accuracy: 0.468200\n",
      "Epoch  5, CIFAR-10 Batch 1:  16:21:49.400035 Loss: 2904577.0000 Validation Accuracy: 0.480400\n",
      "Epoch  5, CIFAR-10 Batch 2:  16:21:53.123073 Loss: 2947043.7500 Validation Accuracy: 0.483200\n",
      "Epoch  5, CIFAR-10 Batch 3:  16:21:56.849831 Loss: 2555931.0000 Validation Accuracy: 0.485800\n",
      "Epoch  5, CIFAR-10 Batch 4:  16:22:00.575170 Loss: 2575364.7500 Validation Accuracy: 0.480600\n",
      "Epoch  5, CIFAR-10 Batch 5:  16:22:04.298208 Loss: 2657102.0000 Validation Accuracy: 0.489800\n",
      "Epoch  6, CIFAR-10 Batch 1:  16:22:08.023649 Loss: 2541129.0000 Validation Accuracy: 0.493000\n",
      "Epoch  6, CIFAR-10 Batch 2:  16:22:11.748758 Loss: 2469196.7500 Validation Accuracy: 0.497600\n",
      "Epoch  6, CIFAR-10 Batch 3:  16:22:15.471781 Loss: 2237691.2500 Validation Accuracy: 0.500800\n",
      "Epoch  6, CIFAR-10 Batch 4:  16:22:19.197239 Loss: 2228460.2500 Validation Accuracy: 0.504200\n",
      "Epoch  6, CIFAR-10 Batch 5:  16:22:22.919987 Loss: 2281809.5000 Validation Accuracy: 0.499200\n",
      "Epoch  7, CIFAR-10 Batch 1:  16:22:26.644521 Loss: 2212601.7500 Validation Accuracy: 0.493600\n",
      "Epoch  7, CIFAR-10 Batch 2:  16:22:30.365332 Loss: 2092886.0000 Validation Accuracy: 0.501400\n",
      "Epoch  7, CIFAR-10 Batch 3:  16:22:34.072194 Loss: 1944755.6250 Validation Accuracy: 0.510600\n",
      "Epoch  7, CIFAR-10 Batch 4:  16:22:37.786490 Loss: 1917918.6250 Validation Accuracy: 0.505800\n",
      "Epoch  7, CIFAR-10 Batch 5:  16:22:41.513761 Loss: 1991133.2500 Validation Accuracy: 0.510000\n",
      "Epoch  8, CIFAR-10 Batch 1:  16:22:45.238014 Loss: 1889182.1250 Validation Accuracy: 0.511400\n",
      "Epoch  8, CIFAR-10 Batch 2:  16:22:48.958372 Loss: 1813522.0000 Validation Accuracy: 0.511200\n",
      "Epoch  8, CIFAR-10 Batch 3:  16:22:52.685285 Loss: 1730893.1250 Validation Accuracy: 0.518800\n",
      "Epoch  8, CIFAR-10 Batch 4:  16:22:56.411677 Loss: 1688291.2500 Validation Accuracy: 0.511400\n",
      "Epoch  8, CIFAR-10 Batch 5:  16:23:00.134479 Loss: 1794420.5000 Validation Accuracy: 0.510800\n",
      "Epoch  9, CIFAR-10 Batch 1:  16:23:03.846237 Loss: 1761218.8750 Validation Accuracy: 0.517800\n",
      "Epoch  9, CIFAR-10 Batch 2:  16:23:07.572773 Loss: 1632067.7500 Validation Accuracy: 0.513600\n",
      "Epoch  9, CIFAR-10 Batch 3:  16:23:11.299855 Loss: 1506576.0000 Validation Accuracy: 0.521600\n",
      "Epoch  9, CIFAR-10 Batch 4:  16:23:15.020876 Loss: 1456284.6250 Validation Accuracy: 0.514400\n",
      "Epoch  9, CIFAR-10 Batch 5:  16:23:18.746363 Loss: 1565395.7500 Validation Accuracy: 0.520200\n",
      "Epoch 10, CIFAR-10 Batch 1:  16:23:22.474015 Loss: 1538980.3750 Validation Accuracy: 0.521200\n",
      "Epoch 10, CIFAR-10 Batch 2:  16:23:26.199156 Loss: 1402285.2500 Validation Accuracy: 0.514800\n",
      "Epoch 10, CIFAR-10 Batch 3:  16:23:29.922816 Loss: 1342630.3750 Validation Accuracy: 0.525000\n",
      "Epoch 10, CIFAR-10 Batch 4:  16:23:33.647082 Loss: 1301225.6250 Validation Accuracy: 0.520200\n",
      "Epoch 10, CIFAR-10 Batch 5:  16:23:37.366041 Loss: 1433562.7500 Validation Accuracy: 0.518600\n",
      "Epoch 11, CIFAR-10 Batch 1:  16:23:41.088836 Loss: 1381957.6250 Validation Accuracy: 0.527200\n",
      "Epoch 11, CIFAR-10 Batch 2:  16:23:44.811980 Loss: 1249262.8750 Validation Accuracy: 0.517800\n",
      "Epoch 11, CIFAR-10 Batch 3:  16:23:48.541149 Loss: 1217602.8750 Validation Accuracy: 0.522200\n",
      "Epoch 11, CIFAR-10 Batch 4:  16:23:52.264560 Loss: 1200094.8750 Validation Accuracy: 0.521600\n",
      "Epoch 11, CIFAR-10 Batch 5:  16:23:55.980727 Loss: 1281673.5000 Validation Accuracy: 0.523000\n",
      "Epoch 12, CIFAR-10 Batch 1:  16:23:59.699084 Loss: 1256233.5000 Validation Accuracy: 0.531000\n",
      "Epoch 12, CIFAR-10 Batch 2:  16:24:03.414660 Loss: 1126534.7500 Validation Accuracy: 0.527200\n",
      "Epoch 12, CIFAR-10 Batch 3:  16:24:07.133704 Loss: 1090981.5000 Validation Accuracy: 0.527200\n",
      "Epoch 12, CIFAR-10 Batch 4:  16:24:10.856676 Loss: 1076492.2500 Validation Accuracy: 0.527200\n",
      "Epoch 12, CIFAR-10 Batch 5:  16:24:14.582496 Loss: 1146777.1250 Validation Accuracy: 0.525400\n",
      "Epoch 13, CIFAR-10 Batch 1:  16:24:18.305230 Loss: 1116794.5000 Validation Accuracy: 0.531400\n",
      "Epoch 13, CIFAR-10 Batch 2:  16:24:22.027386 Loss: 1050634.6250 Validation Accuracy: 0.530000\n",
      "Epoch 13, CIFAR-10 Batch 3:  16:24:25.751073 Loss: 978928.3750 Validation Accuracy: 0.526200\n",
      "Epoch 13, CIFAR-10 Batch 4:  16:24:29.471173 Loss: 974428.0000 Validation Accuracy: 0.521000\n",
      "Epoch 13, CIFAR-10 Batch 5:  16:24:33.194182 Loss: 1052457.8750 Validation Accuracy: 0.523600\n",
      "Epoch 14, CIFAR-10 Batch 1:  16:24:36.914025 Loss: 1024691.0000 Validation Accuracy: 0.528600\n",
      "Epoch 14, CIFAR-10 Batch 2:  16:24:40.633847 Loss: 950311.6250 Validation Accuracy: 0.528000\n",
      "Epoch 14, CIFAR-10 Batch 3:  16:24:44.360587 Loss: 884003.6250 Validation Accuracy: 0.527200\n",
      "Epoch 14, CIFAR-10 Batch 4:  16:24:48.084818 Loss: 899848.3125 Validation Accuracy: 0.528000\n",
      "Epoch 14, CIFAR-10 Batch 5:  16:24:51.808262 Loss: 959660.6250 Validation Accuracy: 0.526000\n",
      "Epoch 15, CIFAR-10 Batch 1:  16:24:55.531188 Loss: 931835.0625 Validation Accuracy: 0.527600\n",
      "Epoch 15, CIFAR-10 Batch 2:  16:24:59.253594 Loss: 881880.6875 Validation Accuracy: 0.526000\n",
      "Epoch 15, CIFAR-10 Batch 3:  16:25:02.973376 Loss: 822214.6250 Validation Accuracy: 0.525400\n",
      "Epoch 15, CIFAR-10 Batch 4:  16:25:06.695330 Loss: 839790.9375 Validation Accuracy: 0.523200\n",
      "Epoch 15, CIFAR-10 Batch 5:  16:25:10.420772 Loss: 890428.6250 Validation Accuracy: 0.517800\n",
      "Epoch 16, CIFAR-10 Batch 1:  16:25:14.144135 Loss: 860811.3750 Validation Accuracy: 0.527600\n",
      "Epoch 16, CIFAR-10 Batch 2:  16:25:17.863184 Loss: 832265.4375 Validation Accuracy: 0.521400\n",
      "Epoch 16, CIFAR-10 Batch 3:  16:25:21.589403 Loss: 764885.6250 Validation Accuracy: 0.524600\n",
      "Epoch 16, CIFAR-10 Batch 4:  16:25:25.307531 Loss: 748586.1875 Validation Accuracy: 0.524200\n",
      "Epoch 16, CIFAR-10 Batch 5:  16:25:29.028297 Loss: 791026.1875 Validation Accuracy: 0.519200\n",
      "Epoch 17, CIFAR-10 Batch 1:  16:25:32.749603 Loss: 758266.7500 Validation Accuracy: 0.521600\n",
      "Epoch 17, CIFAR-10 Batch 2:  16:25:36.455745 Loss: 803145.8125 Validation Accuracy: 0.518000\n",
      "Epoch 17, CIFAR-10 Batch 3:  16:25:40.170407 Loss: 686783.8750 Validation Accuracy: 0.520400\n",
      "Epoch 17, CIFAR-10 Batch 4:  16:25:43.883090 Loss: 708825.8750 Validation Accuracy: 0.523400\n",
      "Epoch 17, CIFAR-10 Batch 5:  16:25:47.605862 Loss: 744958.6250 Validation Accuracy: 0.521200\n",
      "Epoch 18, CIFAR-10 Batch 1:  16:25:51.328615 Loss: 686340.6875 Validation Accuracy: 0.522600\n",
      "Epoch 18, CIFAR-10 Batch 2:  16:25:55.045749 Loss: 711855.3750 Validation Accuracy: 0.519400\n",
      "Epoch 18, CIFAR-10 Batch 3:  16:25:58.771675 Loss: 641005.3125 Validation Accuracy: 0.523800\n",
      "Epoch 18, CIFAR-10 Batch 4:  16:26:02.492467 Loss: 629167.8750 Validation Accuracy: 0.516400\n",
      "Epoch 18, CIFAR-10 Batch 5:  16:26:06.215531 Loss: 659168.0000 Validation Accuracy: 0.515800\n",
      "Epoch 19, CIFAR-10 Batch 1:  16:26:09.941433 Loss: 632012.1250 Validation Accuracy: 0.520800\n",
      "Epoch 19, CIFAR-10 Batch 2:  16:26:13.664607 Loss: 656010.0625 Validation Accuracy: 0.520600\n",
      "Epoch 19, CIFAR-10 Batch 3:  16:26:17.389477 Loss: 595781.1250 Validation Accuracy: 0.519600\n",
      "Epoch 19, CIFAR-10 Batch 4:  16:26:21.114240 Loss: 580630.7500 Validation Accuracy: 0.520200\n",
      "Epoch 19, CIFAR-10 Batch 5:  16:26:24.833651 Loss: 595098.6250 Validation Accuracy: 0.512400\n",
      "Epoch 20, CIFAR-10 Batch 1:  16:26:28.556817 Loss: 565881.7500 Validation Accuracy: 0.521200\n",
      "Epoch 20, CIFAR-10 Batch 2:  16:26:32.279901 Loss: 609836.5000 Validation Accuracy: 0.518400\n",
      "Epoch 20, CIFAR-10 Batch 3:  16:26:36.004196 Loss: 541993.3750 Validation Accuracy: 0.513800\n",
      "Epoch 20, CIFAR-10 Batch 4:  16:26:39.728863 Loss: 523942.0938 Validation Accuracy: 0.512800\n",
      "Epoch 20, CIFAR-10 Batch 5:  16:26:43.454628 Loss: 535263.8125 Validation Accuracy: 0.511400\n"
     ]
    }
   ],
   "source": [
    "\"\"\"\n",
    "DON'T MODIFY ANYTHING IN THIS CELL\n",
    "\"\"\"\n",
    "save_model_path = './image_classification'\n",
    "\n",
    "print('Training...')\n",
    "with tf.Session() as sess:\n",
    "    # Initializing the variables\n",
    "    sess.run(tf.global_variables_initializer())\n",
    "    \n",
    "    # Training cycle\n",
    "    for epoch in range(epochs):\n",
    "        # Loop over all batches\n",
    "        n_batches = 5\n",
    "        for batch_i in range(1, n_batches + 1):\n",
    "            for batch_features, batch_labels in helper.load_preprocess_training_batch(batch_i, batch_size):\n",
    "                train_neural_network(sess, optimizer, keep_probability, batch_features, batch_labels)\n",
    "            print('Epoch {:>2}, CIFAR-10 Batch {}:  '.format(epoch + 1, batch_i), end='')\n",
    "            print_stats(sess, batch_features, batch_labels, cost, accuracy)\n",
    "            \n",
    "    # Save Model\n",
    "    saver = tf.train.Saver()\n",
    "    save_path = saver.save(sess, save_model_path)"
   ]
  },
  {
   "cell_type": "markdown",
   "metadata": {
    "deletable": true,
    "editable": true
   },
   "source": [
    "# Checkpoint\n",
    "The model has been saved to disk.\n",
    "## Test Model\n",
    "Test your model against the test dataset.  This will be your final accuracy. You should have an accuracy greater than 50%. If you don't, keep tweaking the model architecture and parameters."
   ]
  },
  {
   "cell_type": "code",
   "execution_count": 36,
   "metadata": {
    "collapsed": false,
    "deletable": true,
    "editable": true
   },
   "outputs": [
    {
     "name": "stdout",
     "output_type": "stream",
     "text": [
      "Testing Accuracy: 0.5268215894699096\n",
      "\n"
     ]
    },
    {
     "data": {
      "image/png": "[encoded data removed]",
      "text/plain": [
       "<matplotlib.figure.Figure at 0x7f5b4fe72f60>"
      ]
     },
     "metadata": {
      "image/png": {
       "height": 319,
       "width": 349
      }
     },
     "output_type": "display_data"
    }
   ],
   "source": [
    "\"\"\"\n",
    "DON'T MODIFY ANYTHING IN THIS CELL\n",
    "\"\"\"\n",
    "%matplotlib inline\n",
    "%config InlineBackend.figure_format = 'retina'\n",
    "\n",
    "import tensorflow as tf\n",
    "import pickle\n",
    "import helper\n",
    "import random\n",
    "\n",
    "# Set batch size if not already set\n",
    "try:\n",
    "    if batch_size:\n",
    "        pass\n",
    "except NameError:\n",
    "    batch_size = 64\n",
    "\n",
    "save_model_path = './image_classification'\n",
    "n_samples = 4\n",
    "top_n_predictions = 3\n",
    "\n",
    "def test_model():\n",
    "    \"\"\"\n",
    "    Test the saved model against the test dataset\n",
    "    \"\"\"\n",
    "\n",
    "    test_features, test_labels = pickle.load(open('preprocess_training.p', mode='rb'))\n",
    "    loaded_graph = tf.Graph()\n",
    "\n",
    "    with tf.Session(graph=loaded_graph) as sess:\n",
    "        # Load model\n",
    "        loader = tf.train.import_meta_graph(save_model_path + '.meta')\n",
    "        loader.restore(sess, save_model_path)\n",
    "\n",
    "        # Get Tensors from loaded model\n",
    "        loaded_x = loaded_graph.get_tensor_by_name('x:0')\n",
    "        loaded_y = loaded_graph.get_tensor_by_name('y:0')\n",
    "        loaded_keep_prob = loaded_graph.get_tensor_by_name('keep_prob:0')\n",
    "        loaded_logits = loaded_graph.get_tensor_by_name('logits:0')\n",
    "        loaded_acc = loaded_graph.get_tensor_by_name('accuracy:0')\n",
    "        \n",
    "        # Get accuracy in batches for memory limitations\n",
    "        test_batch_acc_total = 0\n",
    "        test_batch_count = 0\n",
    "        \n",
    "        for train_feature_batch, train_label_batch in helper.batch_features_labels(test_features, test_labels, batch_size):\n",
    "            test_batch_acc_total += sess.run(\n",
    "                loaded_acc,\n",
    "                feed_dict={loaded_x: train_feature_batch, loaded_y: train_label_batch, loaded_keep_prob: 1.0})\n",
    "            test_batch_count += 1\n",
    "\n",
    "        print('Testing Accuracy: {}\\n'.format(test_batch_acc_total/test_batch_count))\n",
    "\n",
    "        # Print Random Samples\n",
    "        random_test_features, random_test_labels = tuple(zip(*random.sample(list(zip(test_features, test_labels)), n_samples)))\n",
    "        random_test_predictions = sess.run(\n",
    "            tf.nn.top_k(tf.nn.softmax(loaded_logits), top_n_predictions),\n",
    "            feed_dict={loaded_x: random_test_features, loaded_y: random_test_labels, loaded_keep_prob: 1.0})\n",
    "        helper.display_image_predictions(random_test_features, random_test_labels, random_test_predictions)\n",
    "\n",
    "\n",
    "test_model()"
   ]
  },
  {
   "cell_type": "markdown",
   "metadata": {
    "deletable": true,
    "editable": true
   },
   "source": [
    "## Why 50-70% Accuracy?\n",
    "You might be wondering why you can't get an accuracy any higher. First things first, 50% isn't bad for a simple CNN.  Pure guessing would get you 10% accuracy. However, you might notice people are getting scores [well above 70%](http://rodrigob.github.io/are_we_there_yet/build/classification_datasets_results.html#43494641522d3130).  That's because we haven't taught you all there is to know about neural networks. We still need to cover a few more techniques.\n",
    "## Submitting This Project\n",
    "When submitting this project, make sure to run all the cells before saving the notebook.  Save the notebook file as \"dlnd_image_classification.ipynb\" and save it as a HTML file under \"File\" -> \"Download as\".  Include the \"helper.py\" and \"problem_unittests.py\" files in your submission."
   ]
  }
 ],
 "metadata": {
  "kernelspec": {
   "display_name": "Python 3",
   "language": "python",
   "name": "python3"
  },
  "language_info": {
   "codemirror_mode": {
    "name": "ipython",
    "version": 3
   },
   "file_extension": ".py",
   "mimetype": "text/x-python",
   "name": "python",
   "nbconvert_exporter": "python",
   "pygments_lexer": "ipython3",
   "version": "3.5.2"
  },
  "widgets": {
   "state": {},
   "version": "1.1.2"
  }
 },
 "nbformat": 4,
 "nbformat_minor": 0
}
